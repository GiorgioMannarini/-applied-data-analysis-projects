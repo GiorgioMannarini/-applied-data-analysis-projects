{
 "cells": [
  {
   "cell_type": "markdown",
   "metadata": {},
   "source": [
    "## _Step 0:_ Imports and loading data\n",
    "\n",
    "We used only the libraries that we already used during the exercise sessions."
   ]
  },
  {
   "cell_type": "code",
   "execution_count": 75,
   "metadata": {},
   "outputs": [],
   "source": [
    "# Imports\n",
    "import pandas as pd\n",
    "import numpy as np\n",
    "import matplotlib.pyplot as plt\n",
    "import seaborn as sns\n",
    "%matplotlib inline\n",
    "import statsmodels.api as sm\n",
    "import statsmodels.formula.api as smf\n",
    "from sklearn.linear_model import LinearRegression\n",
    "from sklearn.ensemble import GradientBoostingRegressor\n",
    "from sklearn import metrics\n",
    "from sklearn.model_selection import cross_val_score\n",
    "from scipy.stats import ttest_ind"
   ]
  },
  {
   "cell_type": "code",
   "execution_count": 76,
   "metadata": {},
   "outputs": [],
   "source": [
    "# Defining constants\n",
    "DATA_FOLDER = 'data/'\n",
    "PAPERS_DATASET_PATH = DATA_FOLDER + 'dataset_final.csv'\n",
    "PROPENSITY_SCORES_PATH = DATA_FOLDER + 'propensity_scores.csv'"
   ]
  },
  {
   "cell_type": "code",
   "execution_count": 77,
   "metadata": {},
   "outputs": [
    {
     "data": {
      "text/html": [
       "<div>\n",
       "<style scoped>\n",
       "    .dataframe tbody tr th:only-of-type {\n",
       "        vertical-align: middle;\n",
       "    }\n",
       "\n",
       "    .dataframe tbody tr th {\n",
       "        vertical-align: top;\n",
       "    }\n",
       "\n",
       "    .dataframe thead th {\n",
       "        text-align: right;\n",
       "    }\n",
       "</style>\n",
       "<table border=\"1\" class=\"dataframe\">\n",
       "  <thead>\n",
       "    <tr style=\"text-align: right;\">\n",
       "      <th></th>\n",
       "      <th>year</th>\n",
       "      <th>paper</th>\n",
       "      <th>authors</th>\n",
       "      <th>ratings</th>\n",
       "      <th>decisions</th>\n",
       "      <th>institution</th>\n",
       "      <th>csranking</th>\n",
       "      <th>categories</th>\n",
       "      <th>authors_citations</th>\n",
       "      <th>authors_publications</th>\n",
       "      <th>authors_hindex</th>\n",
       "      <th>arxiv</th>\n",
       "    </tr>\n",
       "  </thead>\n",
       "  <tbody>\n",
       "    <tr>\n",
       "      <th>2112</th>\n",
       "      <td>2019</td>\n",
       "      <td>Using Deep Siamese Neural Networks to Speed up...</td>\n",
       "      <td>Nicholas Roberts;Poornav S. Purushothama;Visha...</td>\n",
       "      <td>3.666667</td>\n",
       "      <td>Reject</td>\n",
       "      <td>University of California, San Diego;;Universit...</td>\n",
       "      <td>11;-1;11;11;-1;11;11</td>\n",
       "      <td>0</td>\n",
       "      <td>10;0;10;10;184;7944;10968</td>\n",
       "      <td>11;1;4;6;26;312;312</td>\n",
       "      <td>2;0;2;2;7;42;43</td>\n",
       "      <td>False</td>\n",
       "    </tr>\n",
       "    <tr>\n",
       "      <th>4211</th>\n",
       "      <td>2020</td>\n",
       "      <td>TinyBERT: Distilling BERT for Natural Language...</td>\n",
       "      <td>Xiaoqi Jiao;Yichun Yin;Lifeng Shang;Xin Jiang;...</td>\n",
       "      <td>5.666667</td>\n",
       "      <td>Reject</td>\n",
       "      <td>Hong Kong University of Science and Technology...</td>\n",
       "      <td>39;-1;-1;-1;-1;-1;39;-1</td>\n",
       "      <td>3</td>\n",
       "      <td>70;59;1733;663;290;826;115;360</td>\n",
       "      <td>3;3;41;23;59;158;22;89</td>\n",
       "      <td>3;1;15;9;7;14;5;9</td>\n",
       "      <td>True</td>\n",
       "    </tr>\n",
       "    <tr>\n",
       "      <th>776</th>\n",
       "      <td>2018</td>\n",
       "      <td>Faster Reinforcement Learning with Expert Stat...</td>\n",
       "      <td>Xiaoxiao Guo;Shiyu Chang;Mo Yu;Miao Liu;Gerald...</td>\n",
       "      <td>5.666667</td>\n",
       "      <td>Reject</td>\n",
       "      <td>International Business Machines;International ...</td>\n",
       "      <td>-1;-1;-1</td>\n",
       "      <td>0</td>\n",
       "      <td>1550;2903;3506;1944;7937</td>\n",
       "      <td>43;111;71;198;124</td>\n",
       "      <td>13;28;26;20;45</td>\n",
       "      <td>False</td>\n",
       "    </tr>\n",
       "    <tr>\n",
       "      <th>2633</th>\n",
       "      <td>2020</td>\n",
       "      <td>Linear Symmetric Quantization of Neural Networ...</td>\n",
       "      <td>Xiandong Zhao;Ying Wang;Xuyi Cai;Cheng Liu;Lei...</td>\n",
       "      <td>5.000000</td>\n",
       "      <td>Accept</td>\n",
       "      <td>Institute of Computing Technology, Chinese Aca...</td>\n",
       "      <td>59;59;59;59;59</td>\n",
       "      <td>2</td>\n",
       "      <td>31;-1;3;266;243</td>\n",
       "      <td>19;-1;2;51;82</td>\n",
       "      <td>4;-1;1;7;5</td>\n",
       "      <td>False</td>\n",
       "    </tr>\n",
       "    <tr>\n",
       "      <th>4168</th>\n",
       "      <td>2020</td>\n",
       "      <td>Training Data Distribution Search with Ensembl...</td>\n",
       "      <td>Kashyap Chitta;Jose M. Alvarez;Elmar Haussmann...</td>\n",
       "      <td>4.333333</td>\n",
       "      <td>Reject</td>\n",
       "      <td>Max Planck Institute for Intelligent Systems, ...</td>\n",
       "      <td>-1;-1;-1;-1</td>\n",
       "      <td>0</td>\n",
       "      <td>36;976;471;5914</td>\n",
       "      <td>15;51;21;28</td>\n",
       "      <td>4;15;11;17</td>\n",
       "      <td>True</td>\n",
       "    </tr>\n",
       "    <tr>\n",
       "      <th>2495</th>\n",
       "      <td>2020</td>\n",
       "      <td>Adaptive Correlated Monte Carlo for Contextual...</td>\n",
       "      <td>Xinjie Fan;Yizhe Zhang;Zhendong Wang;Mingyuan ...</td>\n",
       "      <td>6.666667</td>\n",
       "      <td>Accept</td>\n",
       "      <td>University of Texas, Austin;Microsoft;Columbia...</td>\n",
       "      <td>22;-1;15;22</td>\n",
       "      <td>0</td>\n",
       "      <td>35;1561;3;2033</td>\n",
       "      <td>4;79;4;115</td>\n",
       "      <td>2;17;1;24</td>\n",
       "      <td>False</td>\n",
       "    </tr>\n",
       "    <tr>\n",
       "      <th>2041</th>\n",
       "      <td>2019</td>\n",
       "      <td>S-System, Geometry, Learning, and Optimization...</td>\n",
       "      <td>Shuai Li;Kui Jia</td>\n",
       "      <td>4.000000</td>\n",
       "      <td>Reject</td>\n",
       "      <td>;South China University of Technology</td>\n",
       "      <td>-1;478</td>\n",
       "      <td>1</td>\n",
       "      <td>7660;2777</td>\n",
       "      <td>515;75</td>\n",
       "      <td>47;25</td>\n",
       "      <td>False</td>\n",
       "    </tr>\n",
       "    <tr>\n",
       "      <th>2406</th>\n",
       "      <td>2020</td>\n",
       "      <td>Quantum Algorithms for Deep Convolutional Neur...</td>\n",
       "      <td>Iordanis Kerenidis;Jonas Landman;Anupam Prakash</td>\n",
       "      <td>7.000000</td>\n",
       "      <td>Accept</td>\n",
       "      <td>Université Paris Diderot;Universite Paris Dide...</td>\n",
       "      <td>481;481;481</td>\n",
       "      <td>0</td>\n",
       "      <td>1603;26;616</td>\n",
       "      <td>100;3;39</td>\n",
       "      <td>22;2;11</td>\n",
       "      <td>False</td>\n",
       "    </tr>\n",
       "    <tr>\n",
       "      <th>2262</th>\n",
       "      <td>2020</td>\n",
       "      <td>Meta-Dataset: A Dataset of Datasets for Learni...</td>\n",
       "      <td>Eleni Triantafillou;Tyler Zhu;Vincent Dumoulin...</td>\n",
       "      <td>5.666667</td>\n",
       "      <td>Accept</td>\n",
       "      <td>Department of Computer Science, University of ...</td>\n",
       "      <td>18;-1;-1;-1;-1;5;-1;-1;-1;-1;-1</td>\n",
       "      <td>6;8</td>\n",
       "      <td>591;440;8319;6550;-1;7537;1679;231;5797;9307;2...</td>\n",
       "      <td>31;5;22;13;-1;19;14;6;52;13;124</td>\n",
       "      <td>9;3;17;12;-1;11;9;5;23;8;44</td>\n",
       "      <td>True</td>\n",
       "    </tr>\n",
       "    <tr>\n",
       "      <th>2598</th>\n",
       "      <td>2020</td>\n",
       "      <td>Imitation Learning via Off-Policy Distribution...</td>\n",
       "      <td>Ilya Kostrikov;Ofir Nachum;Jonathan Tompson</td>\n",
       "      <td>6.000000</td>\n",
       "      <td>Accept</td>\n",
       "      <td>New York University;Google;Google</td>\n",
       "      <td>25;-1;-1</td>\n",
       "      <td>0</td>\n",
       "      <td>617;1060;3247</td>\n",
       "      <td>15;42;30</td>\n",
       "      <td>9;15;16</td>\n",
       "      <td>False</td>\n",
       "    </tr>\n",
       "  </tbody>\n",
       "</table>\n",
       "</div>"
      ],
      "text/plain": [
       "      year                                              paper  \\\n",
       "2112  2019  Using Deep Siamese Neural Networks to Speed up...   \n",
       "4211  2020  TinyBERT: Distilling BERT for Natural Language...   \n",
       "776   2018  Faster Reinforcement Learning with Expert Stat...   \n",
       "2633  2020  Linear Symmetric Quantization of Neural Networ...   \n",
       "4168  2020  Training Data Distribution Search with Ensembl...   \n",
       "2495  2020  Adaptive Correlated Monte Carlo for Contextual...   \n",
       "2041  2019  S-System, Geometry, Learning, and Optimization...   \n",
       "2406  2020  Quantum Algorithms for Deep Convolutional Neur...   \n",
       "2262  2020  Meta-Dataset: A Dataset of Datasets for Learni...   \n",
       "2598  2020  Imitation Learning via Off-Policy Distribution...   \n",
       "\n",
       "                                                authors   ratings decisions  \\\n",
       "2112  Nicholas Roberts;Poornav S. Purushothama;Visha...  3.666667    Reject   \n",
       "4211  Xiaoqi Jiao;Yichun Yin;Lifeng Shang;Xin Jiang;...  5.666667    Reject   \n",
       "776   Xiaoxiao Guo;Shiyu Chang;Mo Yu;Miao Liu;Gerald...  5.666667    Reject   \n",
       "2633  Xiandong Zhao;Ying Wang;Xuyi Cai;Cheng Liu;Lei...  5.000000    Accept   \n",
       "4168  Kashyap Chitta;Jose M. Alvarez;Elmar Haussmann...  4.333333    Reject   \n",
       "2495  Xinjie Fan;Yizhe Zhang;Zhendong Wang;Mingyuan ...  6.666667    Accept   \n",
       "2041                                   Shuai Li;Kui Jia  4.000000    Reject   \n",
       "2406    Iordanis Kerenidis;Jonas Landman;Anupam Prakash  7.000000    Accept   \n",
       "2262  Eleni Triantafillou;Tyler Zhu;Vincent Dumoulin...  5.666667    Accept   \n",
       "2598        Ilya Kostrikov;Ofir Nachum;Jonathan Tompson  6.000000    Accept   \n",
       "\n",
       "                                            institution  \\\n",
       "2112  University of California, San Diego;;Universit...   \n",
       "4211  Hong Kong University of Science and Technology...   \n",
       "776   International Business Machines;International ...   \n",
       "2633  Institute of Computing Technology, Chinese Aca...   \n",
       "4168  Max Planck Institute for Intelligent Systems, ...   \n",
       "2495  University of Texas, Austin;Microsoft;Columbia...   \n",
       "2041              ;South China University of Technology   \n",
       "2406  Université Paris Diderot;Universite Paris Dide...   \n",
       "2262  Department of Computer Science, University of ...   \n",
       "2598                  New York University;Google;Google   \n",
       "\n",
       "                            csranking categories  \\\n",
       "2112             11;-1;11;11;-1;11;11          0   \n",
       "4211          39;-1;-1;-1;-1;-1;39;-1          3   \n",
       "776                          -1;-1;-1          0   \n",
       "2633                   59;59;59;59;59          2   \n",
       "4168                      -1;-1;-1;-1          0   \n",
       "2495                      22;-1;15;22          0   \n",
       "2041                           -1;478          1   \n",
       "2406                      481;481;481          0   \n",
       "2262  18;-1;-1;-1;-1;5;-1;-1;-1;-1;-1        6;8   \n",
       "2598                         25;-1;-1          0   \n",
       "\n",
       "                                      authors_citations  \\\n",
       "2112                          10;0;10;10;184;7944;10968   \n",
       "4211                     70;59;1733;663;290;826;115;360   \n",
       "776                            1550;2903;3506;1944;7937   \n",
       "2633                                    31;-1;3;266;243   \n",
       "4168                                    36;976;471;5914   \n",
       "2495                                     35;1561;3;2033   \n",
       "2041                                          7660;2777   \n",
       "2406                                        1603;26;616   \n",
       "2262  591;440;8319;6550;-1;7537;1679;231;5797;9307;2...   \n",
       "2598                                      617;1060;3247   \n",
       "\n",
       "                 authors_publications               authors_hindex  arxiv  \n",
       "2112              11;1;4;6;26;312;312              2;0;2;2;7;42;43  False  \n",
       "4211           3;3;41;23;59;158;22;89            3;1;15;9;7;14;5;9   True  \n",
       "776                 43;111;71;198;124               13;28;26;20;45  False  \n",
       "2633                    19;-1;2;51;82                   4;-1;1;7;5  False  \n",
       "4168                      15;51;21;28                   4;15;11;17   True  \n",
       "2495                       4;79;4;115                    2;17;1;24  False  \n",
       "2041                           515;75                        47;25  False  \n",
       "2406                         100;3;39                      22;2;11  False  \n",
       "2262  31;5;22;13;-1;19;14;6;52;13;124  9;3;17;12;-1;11;9;5;23;8;44   True  \n",
       "2598                         15;42;30                      9;15;16  False  "
      ]
     },
     "execution_count": 77,
     "metadata": {},
     "output_type": "execute_result"
    }
   ],
   "source": [
    "# Reading the papers' dataset and having a look at it\n",
    "df = pd.read_csv(PAPERS_DATASET_PATH)\n",
    "df.sample(10) "
   ]
  },
  {
   "cell_type": "markdown",
   "metadata": {},
   "source": [
    "## _Step 1:_ Predicting paper ratings"
   ]
  },
  {
   "cell_type": "markdown",
   "metadata": {},
   "source": [
    "### Task 1.1"
   ]
  },
  {
   "cell_type": "markdown",
   "metadata": {},
   "source": [
    "#### *Subtask* 1.1.1"
   ]
  },
  {
   "cell_type": "markdown",
   "metadata": {},
   "source": [
    "Firstly, we inspect the missing data for the three mentioned columns. We observe that there seems to be some papers for which the scores of one or more authors are missing.\n",
    "We consider the following approaches:\n",
    "1. Replace the missing values with the mean of the non-missing values, and compute the median of the resulting list.\n",
    "2. Compute the median including the missing values.\n",
    "3. Discard the missing values, and only then compute the median.\n",
    "\n",
    "\n",
    "After giving it some thought, we ran into some issues with the two first approaches:\n",
    "1. Since we are interested in the median, replacing the missing values with the mean of the related list would not make much sense, because this could result in taking this mean as median for many columns.\n",
    "2. Computing the median without discarding the missing values skews the median.\n",
    "\n",
    "The third approach seems to be the most sensible out of the three, but we need to check whether there's a row with all the values equal to '-1' for one of the fields we are taking into account.\n",
    "\n",
    "First of all let's see how many null values we have."
   ]
  },
  {
   "cell_type": "code",
   "execution_count": 4,
   "metadata": {},
   "outputs": [
    {
     "name": "stdout",
     "output_type": "stream",
     "text": [
      "Missing values for authors_citations: 96\n",
      "Missing values for authors_publications: 96\n",
      "Missing values for authors_hindex: 96\n"
     ]
    }
   ],
   "source": [
    "# Defining the columns to take into account for the computation of the requested fields\n",
    "authors_columns = ['authors_citations', 'authors_publications', 'authors_hindex']\n",
    "\n",
    "# Printing the number of missing values for each of the afore-mentioned columns\n",
    "for author_column in authors_columns:\n",
    "    print(f'Missing values for {author_column}: {np.squeeze(df[df[author_column].str.contains(\"-1\")][[author_column]].count().values)}')"
   ]
  },
  {
   "cell_type": "markdown",
   "metadata": {},
   "source": [
    "Now we turn the semi-colon separated string into a list of numbers, replacing _-1_'s with `np.nan`. This makes the subsequent tasks less tedious. Then, we generate the requested columns."
   ]
  },
  {
   "cell_type": "code",
   "execution_count": 5,
   "metadata": {},
   "outputs": [],
   "source": [
    "def convert(df, columns, type_, value=np.nan):\n",
    "    \"\"\"\n",
    "    Converts a column with multiple values in each cell separated by a ';' into a column of numpy arrays, casting the obtained strings into the specified type, if they are not equal to '-1'. \n",
    "    Otherwise, substitute that string with the parameter specified as value.\n",
    "    \n",
    "    :param df: the dataframe that contains the columns you want to convert\n",
    "    :type df: pandas.DataFrame\n",
    "    :param columns: list of columns which contain the values you want to convert\n",
    "    :type columns: list\n",
    "    :param type_: type of the converted values of the new list. Casting is done after splitting.\n",
    "    :type type_: function\n",
    "    :param value: the value to use to replace \"-1\".\n",
    "    :type value: Any, optional\n",
    "    \"\"\"\n",
    "    \n",
    "    for column in columns:\n",
    "        df[column] = df[column].apply(lambda x: np.array(list(map(lambda a : type_(a) if type_(a) != -1 else value, x.split(';')))))"
   ]
  },
  {
   "cell_type": "code",
   "execution_count": 6,
   "metadata": {},
   "outputs": [],
   "source": [
    "# Converting the columns 'authors_citations', 'authors_publications', 'authors_hindex'\n",
    "convert(df, authors_columns, int)"
   ]
  },
  {
   "cell_type": "code",
   "execution_count": 8,
   "metadata": {},
   "outputs": [],
   "source": [
    "# For each previously-defined column, create the respective \"median column\"\n",
    "for column in authors_columns:\n",
    "    df[column + '_median'] = df[column].apply(lambda x: np.nanmedian(x))"
   ]
  },
  {
   "cell_type": "markdown",
   "metadata": {},
   "source": [
    "Before moving on, let's see if there's a paper for which one of the newly generated columns is `np.nan`."
   ]
  },
  {
   "cell_type": "code",
   "execution_count": 9,
   "metadata": {},
   "outputs": [
    {
     "name": "stdout",
     "output_type": "stream",
     "text": [
      "Number of NaN values in the column authors_citations_median: 0\n",
      "Number of NaN values in the column authors_publications_median: 0\n",
      "Number of NaN values in the column authors_hindex_median: 0\n"
     ]
    }
   ],
   "source": [
    "for column in authors_columns:\n",
    "    col = column + '_median'\n",
    "    print(f\"Number of NaN values in the column {col}: {df[col].isna().sum()}\")"
   ]
  },
  {
   "cell_type": "markdown",
   "metadata": {},
   "source": [
    "Perfect, we can move on to the next tasks."
   ]
  },
  {
   "cell_type": "markdown",
   "metadata": {},
   "source": [
    "#### *Subtask* 1.1.2"
   ]
  },
  {
   "cell_type": "markdown",
   "metadata": {},
   "source": [
    "We apply the formula, and since we substitued -1 values with `np.nan` in `authors_citations` and `authors_publications`, we check whether the new column has NaN values (since a computation with a NaN value always return NaN). Thankfully, this is not the case. We check again because we only use the last value of the list here, which can be NaN (unlikely, but we want to be sure)."
   ]
  },
  {
   "cell_type": "code",
   "execution_count": 12,
   "metadata": {},
   "outputs": [],
   "source": [
    "# Creating the reputation column\n",
    "df['reputation'] = df.apply(lambda x: np.log10((x['authors_citations'][-1] / x['authors_publications'][-1]) + 1), axis=1)"
   ]
  },
  {
   "cell_type": "code",
   "execution_count": 13,
   "metadata": {},
   "outputs": [
    {
     "data": {
      "text/plain": [
       "0"
      ]
     },
     "execution_count": 13,
     "metadata": {},
     "output_type": "execute_result"
    }
   ],
   "source": [
    "# Checking if one or more reputations are NaN.\n",
    "df['reputation'].isna().sum()"
   ]
  },
  {
   "cell_type": "markdown",
   "metadata": {},
   "source": [
    "#### *Subtask* 1.1.3"
   ]
  },
  {
   "cell_type": "markdown",
   "metadata": {},
   "source": [
    "We apply the convert function that turns semi-colon separated strings into an array of elements of the specified type, as done in subtask 1.1.1."
   ]
  },
  {
   "cell_type": "code",
   "execution_count": 14,
   "metadata": {},
   "outputs": [],
   "source": [
    "# Applying the conversion to the columns 'institution' and 'csranking'. For 'csranking' we substitute the -1 values with np.inf, as explained below.\n",
    "convert(df, ['institution'], str)\n",
    "convert(df, ['csranking'], int, np.inf)"
   ]
  },
  {
   "cell_type": "markdown",
   "metadata": {},
   "source": [
    "First, let's start with some observations:\n",
    "1. Companies and institutions are both present in the `institution` column.\n",
    "2. The same institution can be spelled in different ways.\n",
    "\n",
    "Fortunately, we solve the first issue by replacing the value -1 with `np.inf`, so that companies do not interfere in the ranking of institutions. This also deals with institutions for which a ranking was not specified.\n",
    "As for the second observation, we take advantage of the fact that despite different spellings, the ranking is identical. Hence, we build an intermediate dictionary, with different institution spellings as keys and rankings as values, and then we select the keys of the dictionary for which the value is less than or equal to 10."
   ]
  },
  {
   "cell_type": "code",
   "execution_count": 15,
   "metadata": {},
   "outputs": [
    {
     "data": {
      "text/plain": [
       "['Carnegie Mellon University',\n",
       " 'Carnegie-Mellon University',\n",
       " 'Massachusetts Institute of Technology',\n",
       " 'University of Illinois, Urbana Champaign',\n",
       " 'University of Illinois at Urbana-Champaign',\n",
       " 'University of Illinois, Urbana-Champaign',\n",
       " 'Stanford University',\n",
       " 'University of California Berkeley',\n",
       " 'University of California-Berkeley',\n",
       " 'University of Washington',\n",
       " 'University of Washington, Seattle',\n",
       " 'Cornell University',\n",
       " 'University of Michigan',\n",
       " 'Tsinghua University',\n",
       " 'Tsinghua',\n",
       " 'Mails.tsinghua',\n",
       " 'Swiss Federal Institute of Technology']"
      ]
     },
     "execution_count": 15,
     "metadata": {},
     "output_type": "execute_result"
    }
   ],
   "source": [
    "# Building the aforementioned dictionary. Key: institution name, Value: ranking\n",
    "ranking = dict(zip(np.hstack(df['institution'].values), np.hstack(df['csranking'].values)))\n",
    "\n",
    "# Sorting the dictionary keys according to their respective values\n",
    "ranking = {k: v for k, v in sorted(ranking.items(), key=lambda item: item[1])}\n",
    "\n",
    "# Selecting the top 10 institutions and printing them\n",
    "top10_institutions = [k for k,v in ranking.items() if v < 11]\n",
    "top10_institutions"
   ]
  },
  {
   "cell_type": "markdown",
   "metadata": {},
   "source": [
    "Finally, to generate the desired columns, i.e `has_top_institution` and `has_top_company`, we check whether the intersection of each row of `institution` with the array `top10_institutions` and `top_companies` respectively are empty or not.\n",
    "__Note__: we noticed that somethimes the R&D departments of top companies like Facebook and Microsoft are called in a different way in the dataset (\"Facebook AI Research\", \"Microsoft Research\"). We decide to also take into account those when building the feature `has_top_company`. "
   ]
  },
  {
   "cell_type": "code",
   "execution_count": 16,
   "metadata": {},
   "outputs": [
    {
     "data": {
      "text/plain": [
       "['Facebook',\n",
       " 'Microsoft Research',\n",
       " 'Facebook AI Research',\n",
       " 'Google',\n",
       " 'Microsoft']"
      ]
     },
     "execution_count": 16,
     "metadata": {},
     "output_type": "execute_result"
    }
   ],
   "source": [
    "# Checking whether the four given top companies are spelled in different ways, like the institutions\n",
    "top_companies = []\n",
    "df['institution'].apply(lambda x: [top_companies.append(a) for a in x for b in [\"Facebook\", \"Google\", \"Microsoft\", \"Deepmind\"] if b in a])\n",
    "\n",
    "# Creating the top-companies list and printing it\n",
    "top_companies = list(set(top_companies))\n",
    "top_companies"
   ]
  },
  {
   "cell_type": "markdown",
   "metadata": {},
   "source": [
    "Apparently Deepmind is not in the dataset, weird, but we checked in many different ways. Anyway, let's create the columns."
   ]
  },
  {
   "cell_type": "code",
   "execution_count": 17,
   "metadata": {},
   "outputs": [],
   "source": [
    "# Creating the two columns 'has_top_company' and 'has_top_institution'\n",
    "df['has_top_company'] = df['institution'].apply(lambda x: 1 if len(np.intersect1d(x, top_companies)) > 0 else 0)\n",
    "df['has_top_institution'] = df['institution'].apply(lambda x: 1 if len(np.intersect1d(x, top10_institutions)) > 0 else 0)"
   ]
  },
  {
   "cell_type": "markdown",
   "metadata": {},
   "source": [
    "Let's see the result:"
   ]
  },
  {
   "cell_type": "code",
   "execution_count": 18,
   "metadata": {},
   "outputs": [
    {
     "data": {
      "text/html": [
       "<div>\n",
       "<style scoped>\n",
       "    .dataframe tbody tr th:only-of-type {\n",
       "        vertical-align: middle;\n",
       "    }\n",
       "\n",
       "    .dataframe tbody tr th {\n",
       "        vertical-align: top;\n",
       "    }\n",
       "\n",
       "    .dataframe thead th {\n",
       "        text-align: right;\n",
       "    }\n",
       "</style>\n",
       "<table border=\"1\" class=\"dataframe\">\n",
       "  <thead>\n",
       "    <tr style=\"text-align: right;\">\n",
       "      <th></th>\n",
       "      <th>year</th>\n",
       "      <th>paper</th>\n",
       "      <th>authors</th>\n",
       "      <th>ratings</th>\n",
       "      <th>decisions</th>\n",
       "      <th>institution</th>\n",
       "      <th>csranking</th>\n",
       "      <th>categories</th>\n",
       "      <th>authors_citations</th>\n",
       "      <th>authors_publications</th>\n",
       "      <th>authors_hindex</th>\n",
       "      <th>arxiv</th>\n",
       "      <th>authors_citations_median</th>\n",
       "      <th>authors_publications_median</th>\n",
       "      <th>authors_hindex_median</th>\n",
       "      <th>reputation</th>\n",
       "      <th>has_top_company</th>\n",
       "      <th>has_top_institution</th>\n",
       "    </tr>\n",
       "  </thead>\n",
       "  <tbody>\n",
       "    <tr>\n",
       "      <th>1458</th>\n",
       "      <td>2019</td>\n",
       "      <td>The Importance of Norm Regularization in Linea...</td>\n",
       "      <td>Yihan Gao;Chao Zhang;Jian Peng;Aditya Paramesw...</td>\n",
       "      <td>5.000000</td>\n",
       "      <td>Reject</td>\n",
       "      <td>[University of Illinois, Urbana Champaign, Uni...</td>\n",
       "      <td>[3, 3, 3, 3]</td>\n",
       "      <td>10;1;8</td>\n",
       "      <td>[144, 2166, 1316, 155]</td>\n",
       "      <td>[20, 255, 151, 28]</td>\n",
       "      <td>[6, 22, 19, 5]</td>\n",
       "      <td>True</td>\n",
       "      <td>735.5</td>\n",
       "      <td>89.5</td>\n",
       "      <td>12.5</td>\n",
       "      <td>0.815293</td>\n",
       "      <td>0</td>\n",
       "      <td>1</td>\n",
       "    </tr>\n",
       "    <tr>\n",
       "      <th>647</th>\n",
       "      <td>2018</td>\n",
       "      <td>LSD-Net: Look, Step and Detect for Joint Navig...</td>\n",
       "      <td>N dinesh reddy</td>\n",
       "      <td>4.333333</td>\n",
       "      <td>Reject</td>\n",
       "      <td>[Carnegie Mellon University]</td>\n",
       "      <td>[1]</td>\n",
       "      <td>0</td>\n",
       "      <td>[108]</td>\n",
       "      <td>[15]</td>\n",
       "      <td>[6]</td>\n",
       "      <td>False</td>\n",
       "      <td>108.0</td>\n",
       "      <td>15.0</td>\n",
       "      <td>6.0</td>\n",
       "      <td>0.913814</td>\n",
       "      <td>0</td>\n",
       "      <td>1</td>\n",
       "    </tr>\n",
       "    <tr>\n",
       "      <th>768</th>\n",
       "      <td>2018</td>\n",
       "      <td>Jiffy: A Convolutional Approach to Learning Ti...</td>\n",
       "      <td>Divya Shanmugam;Davis Blalock;John Guttag</td>\n",
       "      <td>6.000000</td>\n",
       "      <td>Reject</td>\n",
       "      <td>[Massachusetts Institute of Technology, Massac...</td>\n",
       "      <td>[2, 2, 2]</td>\n",
       "      <td>0</td>\n",
       "      <td>[7, 57, 9428]</td>\n",
       "      <td>[5, 8, 220]</td>\n",
       "      <td>[1, 4, 46]</td>\n",
       "      <td>False</td>\n",
       "      <td>57.0</td>\n",
       "      <td>8.0</td>\n",
       "      <td>4.0</td>\n",
       "      <td>1.642015</td>\n",
       "      <td>0</td>\n",
       "      <td>1</td>\n",
       "    </tr>\n",
       "    <tr>\n",
       "      <th>1952</th>\n",
       "      <td>2019</td>\n",
       "      <td>Computation-Efficient Quantization Method for ...</td>\n",
       "      <td>Parichay Kapoor;Dongsoo Lee;Byeongwook Kim;Sae...</td>\n",
       "      <td>4.666667</td>\n",
       "      <td>Reject</td>\n",
       "      <td>[, Samsung, , Samsung]</td>\n",
       "      <td>[inf, inf, inf, inf]</td>\n",
       "      <td>0</td>\n",
       "      <td>[15, 331, 23, 2]</td>\n",
       "      <td>[6, 33, 10, 2]</td>\n",
       "      <td>[2, 10, 3, 1]</td>\n",
       "      <td>False</td>\n",
       "      <td>19.0</td>\n",
       "      <td>8.0</td>\n",
       "      <td>2.5</td>\n",
       "      <td>0.301030</td>\n",
       "      <td>0</td>\n",
       "      <td>0</td>\n",
       "    </tr>\n",
       "    <tr>\n",
       "      <th>3926</th>\n",
       "      <td>2020</td>\n",
       "      <td>On the expected running time of nonconvex opti...</td>\n",
       "      <td>Thomas Flynn;Kwang Min Yu;Abid Malik;Shinjae Y...</td>\n",
       "      <td>4.000000</td>\n",
       "      <td>Reject</td>\n",
       "      <td>[Brookhaven National Laboratory, Brookhaven Na...</td>\n",
       "      <td>[inf, inf, inf, inf, inf]</td>\n",
       "      <td>1;9;8</td>\n",
       "      <td>[643, 40, 48, 697, 7]</td>\n",
       "      <td>[91, 31, 9, 79, 5]</td>\n",
       "      <td>[11, 4, 2, 13, 2]</td>\n",
       "      <td>False</td>\n",
       "      <td>48.0</td>\n",
       "      <td>31.0</td>\n",
       "      <td>4.0</td>\n",
       "      <td>0.380211</td>\n",
       "      <td>0</td>\n",
       "      <td>0</td>\n",
       "    </tr>\n",
       "  </tbody>\n",
       "</table>\n",
       "</div>"
      ],
      "text/plain": [
       "      year                                              paper  \\\n",
       "1458  2019  The Importance of Norm Regularization in Linea...   \n",
       "647   2018  LSD-Net: Look, Step and Detect for Joint Navig...   \n",
       "768   2018  Jiffy: A Convolutional Approach to Learning Ti...   \n",
       "1952  2019  Computation-Efficient Quantization Method for ...   \n",
       "3926  2020  On the expected running time of nonconvex opti...   \n",
       "\n",
       "                                                authors   ratings decisions  \\\n",
       "1458  Yihan Gao;Chao Zhang;Jian Peng;Aditya Paramesw...  5.000000    Reject   \n",
       "647                                      N dinesh reddy  4.333333    Reject   \n",
       "768           Divya Shanmugam;Davis Blalock;John Guttag  6.000000    Reject   \n",
       "1952  Parichay Kapoor;Dongsoo Lee;Byeongwook Kim;Sae...  4.666667    Reject   \n",
       "3926  Thomas Flynn;Kwang Min Yu;Abid Malik;Shinjae Y...  4.000000    Reject   \n",
       "\n",
       "                                            institution  \\\n",
       "1458  [University of Illinois, Urbana Champaign, Uni...   \n",
       "647                        [Carnegie Mellon University]   \n",
       "768   [Massachusetts Institute of Technology, Massac...   \n",
       "1952                             [, Samsung, , Samsung]   \n",
       "3926  [Brookhaven National Laboratory, Brookhaven Na...   \n",
       "\n",
       "                      csranking categories       authors_citations  \\\n",
       "1458               [3, 3, 3, 3]     10;1;8  [144, 2166, 1316, 155]   \n",
       "647                         [1]          0                   [108]   \n",
       "768                   [2, 2, 2]          0           [7, 57, 9428]   \n",
       "1952       [inf, inf, inf, inf]          0        [15, 331, 23, 2]   \n",
       "3926  [inf, inf, inf, inf, inf]      1;9;8   [643, 40, 48, 697, 7]   \n",
       "\n",
       "     authors_publications     authors_hindex  arxiv  authors_citations_median  \\\n",
       "1458   [20, 255, 151, 28]     [6, 22, 19, 5]   True                     735.5   \n",
       "647                  [15]                [6]  False                     108.0   \n",
       "768           [5, 8, 220]         [1, 4, 46]  False                      57.0   \n",
       "1952       [6, 33, 10, 2]      [2, 10, 3, 1]  False                      19.0   \n",
       "3926   [91, 31, 9, 79, 5]  [11, 4, 2, 13, 2]  False                      48.0   \n",
       "\n",
       "      authors_publications_median  authors_hindex_median  reputation  \\\n",
       "1458                         89.5                   12.5    0.815293   \n",
       "647                          15.0                    6.0    0.913814   \n",
       "768                           8.0                    4.0    1.642015   \n",
       "1952                          8.0                    2.5    0.301030   \n",
       "3926                         31.0                    4.0    0.380211   \n",
       "\n",
       "      has_top_company  has_top_institution  \n",
       "1458                0                    1  \n",
       "647                 0                    1  \n",
       "768                 0                    1  \n",
       "1952                0                    0  \n",
       "3926                0                    0  "
      ]
     },
     "execution_count": 18,
     "metadata": {},
     "output_type": "execute_result"
    }
   ],
   "source": [
    "df.sample(5)"
   ]
  },
  {
   "cell_type": "markdown",
   "metadata": {},
   "source": [
    "#### *Subtask* 1.1.4\n",
    "We discussed the possible apporaches to solve this in __subtask 1.1.1__. Please refer to it."
   ]
  },
  {
   "cell_type": "markdown",
   "metadata": {},
   "source": [
    "### Task 1.2"
   ]
  },
  {
   "cell_type": "markdown",
   "metadata": {},
   "source": [
    "#### *Subtask* 1.2.1"
   ]
  },
  {
   "cell_type": "markdown",
   "metadata": {},
   "source": [
    "To randomly split the data into a train and a test set, we simply sample from the dataframe 70% of the rows (_train set_) and then we take the remaining ones as _test set_."
   ]
  },
  {
   "cell_type": "code",
   "execution_count": 19,
   "metadata": {},
   "outputs": [],
   "source": [
    "def random_split(data, frac, seed = 0):\n",
    "    \"\"\"\n",
    "    This function returns a train and a test set with random entries chosen from the given dataset.\n",
    "    The parameter frac represent the fraction of training samples and 1-frac the one of test samples. \n",
    "    \n",
    "    :param data: the complete dataset to split\n",
    "    :type data: pandas.DataFrame\n",
    "    :param frac: the fraction of training samples to return, with respect to the entire dataset. It goes from 0 to 1.\n",
    "    :type frac: float\n",
    "    :param seed: the seed that indicates the random state for the random sampling\n",
    "    :type seed: int, optional\n",
    "    \n",
    "    :return: the train and the test datasets\n",
    "    :rtype: tuple\n",
    "    \"\"\"\n",
    "    \n",
    "    train = data.sample(frac = frac,random_state=seed)\n",
    "    test = data.drop(train.index)\n",
    "    \n",
    "    return train, test "
   ]
  },
  {
   "cell_type": "code",
   "execution_count": 20,
   "metadata": {},
   "outputs": [
    {
     "name": "stdout",
     "output_type": "stream",
     "text": [
      "Train set shape: (2979, 18)\n",
      "Test set shape: (1277, 18)\n"
     ]
    }
   ],
   "source": [
    "# Performing the random split of the dataframe and printing the shape of the training and test set\n",
    "train, test = random_split(df, frac = 0.7)\n",
    "print(f\"Train set shape: {train.shape}\\nTest set shape: {test.shape}\")"
   ]
  },
  {
   "cell_type": "markdown",
   "metadata": {},
   "source": [
    "To be sure that the intersection between the train and the test set is empty, let's see what happens when we merge the two dataframes on the paper name."
   ]
  },
  {
   "cell_type": "code",
   "execution_count": 21,
   "metadata": {},
   "outputs": [
    {
     "data": {
      "text/html": [
       "<div>\n",
       "<style scoped>\n",
       "    .dataframe tbody tr th:only-of-type {\n",
       "        vertical-align: middle;\n",
       "    }\n",
       "\n",
       "    .dataframe tbody tr th {\n",
       "        vertical-align: top;\n",
       "    }\n",
       "\n",
       "    .dataframe thead th {\n",
       "        text-align: right;\n",
       "    }\n",
       "</style>\n",
       "<table border=\"1\" class=\"dataframe\">\n",
       "  <thead>\n",
       "    <tr style=\"text-align: right;\">\n",
       "      <th></th>\n",
       "      <th>year_x</th>\n",
       "      <th>paper</th>\n",
       "      <th>authors_x</th>\n",
       "      <th>ratings_x</th>\n",
       "      <th>decisions_x</th>\n",
       "      <th>institution_x</th>\n",
       "      <th>csranking_x</th>\n",
       "      <th>categories_x</th>\n",
       "      <th>authors_citations_x</th>\n",
       "      <th>authors_publications_x</th>\n",
       "      <th>...</th>\n",
       "      <th>authors_citations_y</th>\n",
       "      <th>authors_publications_y</th>\n",
       "      <th>authors_hindex_y</th>\n",
       "      <th>arxiv_y</th>\n",
       "      <th>authors_citations_median_y</th>\n",
       "      <th>authors_publications_median_y</th>\n",
       "      <th>authors_hindex_median_y</th>\n",
       "      <th>reputation_y</th>\n",
       "      <th>has_top_company_y</th>\n",
       "      <th>has_top_institution_y</th>\n",
       "    </tr>\n",
       "  </thead>\n",
       "  <tbody>\n",
       "    <tr>\n",
       "      <th>0</th>\n",
       "      <td>2020</td>\n",
       "      <td>Unified recurrent network for many feature types</td>\n",
       "      <td>Alexander Stec;Diego Klabjan;Jean Utke</td>\n",
       "      <td>1.000000</td>\n",
       "      <td>Reject</td>\n",
       "      <td>[Northwestern University, Northwestern Univers...</td>\n",
       "      <td>[44.0, 44.0, inf]</td>\n",
       "      <td>0</td>\n",
       "      <td>[12, 2780, 1067]</td>\n",
       "      <td>[7, 219, 67]</td>\n",
       "      <td>...</td>\n",
       "      <td>[12, 2625, 1024]</td>\n",
       "      <td>[7, 215, 66]</td>\n",
       "      <td>[1, 26, 14]</td>\n",
       "      <td>False</td>\n",
       "      <td>1024.0</td>\n",
       "      <td>66.0</td>\n",
       "      <td>14.0</td>\n",
       "      <td>1.217883</td>\n",
       "      <td>0</td>\n",
       "      <td>0</td>\n",
       "    </tr>\n",
       "    <tr>\n",
       "      <th>1</th>\n",
       "      <td>2019</td>\n",
       "      <td>Deep Imitative Models for Flexible Inference, ...</td>\n",
       "      <td>Nicholas Rhinehart;Rowan McAllister;Sergey Levine</td>\n",
       "      <td>5.666667</td>\n",
       "      <td>Reject</td>\n",
       "      <td>[Carnegie Mellon University, University of Cal...</td>\n",
       "      <td>[1, 5, 5]</td>\n",
       "      <td>0</td>\n",
       "      <td>[378, 556, 24386]</td>\n",
       "      <td>[21, 29, 309]</td>\n",
       "      <td>...</td>\n",
       "      <td>[390, 576, 24893]</td>\n",
       "      <td>[22, 29, 310]</td>\n",
       "      <td>[9, 11, 74]</td>\n",
       "      <td>False</td>\n",
       "      <td>576.0</td>\n",
       "      <td>29.0</td>\n",
       "      <td>11.0</td>\n",
       "      <td>1.910091</td>\n",
       "      <td>0</td>\n",
       "      <td>1</td>\n",
       "    </tr>\n",
       "    <tr>\n",
       "      <th>2</th>\n",
       "      <td>2018</td>\n",
       "      <td>Data augmentation instead of explicit regulari...</td>\n",
       "      <td>Alex Hernández-García;Peter König</td>\n",
       "      <td>5.000000</td>\n",
       "      <td>Reject</td>\n",
       "      <td>[University of Osnabrück, University of Osnabr...</td>\n",
       "      <td>[364, 364]</td>\n",
       "      <td>8</td>\n",
       "      <td>[86, 749]</td>\n",
       "      <td>[15, 135]</td>\n",
       "      <td>...</td>\n",
       "      <td>[87, 780]</td>\n",
       "      <td>[15, 135]</td>\n",
       "      <td>[5, 18]</td>\n",
       "      <td>False</td>\n",
       "      <td>433.5</td>\n",
       "      <td>75.0</td>\n",
       "      <td>11.5</td>\n",
       "      <td>0.831087</td>\n",
       "      <td>0</td>\n",
       "      <td>0</td>\n",
       "    </tr>\n",
       "    <tr>\n",
       "      <th>3</th>\n",
       "      <td>2020</td>\n",
       "      <td>Double Neural Counterfactual Regret Minimization</td>\n",
       "      <td>Hui Li;Kailiang Hu;Shaohua Zhang;Yuan Qi;Le Song</td>\n",
       "      <td>7.000000</td>\n",
       "      <td>Accept</td>\n",
       "      <td>[Alibaba Group and Ant Financial Services Grou...</td>\n",
       "      <td>[inf, inf, inf, inf, 13.0]</td>\n",
       "      <td>0</td>\n",
       "      <td>[15391.0, 11.0, nan, 6302.0, 9519.0]</td>\n",
       "      <td>[1304.0, 4.0, nan, 253.0, 329.0]</td>\n",
       "      <td>...</td>\n",
       "      <td>[14710, 11, 9, 12260, 6119, 9290]</td>\n",
       "      <td>[1304, 4, 2, 803, 253, 329]</td>\n",
       "      <td>[54, 2, 1, 50, 32, 52]</td>\n",
       "      <td>False</td>\n",
       "      <td>7704.5</td>\n",
       "      <td>291.0</td>\n",
       "      <td>41.0</td>\n",
       "      <td>1.465934</td>\n",
       "      <td>0</td>\n",
       "      <td>0</td>\n",
       "    </tr>\n",
       "  </tbody>\n",
       "</table>\n",
       "<p>4 rows × 35 columns</p>\n",
       "</div>"
      ],
      "text/plain": [
       "   year_x                                              paper  \\\n",
       "0    2020   Unified recurrent network for many feature types   \n",
       "1    2019  Deep Imitative Models for Flexible Inference, ...   \n",
       "2    2018  Data augmentation instead of explicit regulari...   \n",
       "3    2020   Double Neural Counterfactual Regret Minimization   \n",
       "\n",
       "                                           authors_x  ratings_x decisions_x  \\\n",
       "0             Alexander Stec;Diego Klabjan;Jean Utke   1.000000      Reject   \n",
       "1  Nicholas Rhinehart;Rowan McAllister;Sergey Levine   5.666667      Reject   \n",
       "2                  Alex Hernández-García;Peter König   5.000000      Reject   \n",
       "3   Hui Li;Kailiang Hu;Shaohua Zhang;Yuan Qi;Le Song   7.000000      Accept   \n",
       "\n",
       "                                       institution_x  \\\n",
       "0  [Northwestern University, Northwestern Univers...   \n",
       "1  [Carnegie Mellon University, University of Cal...   \n",
       "2  [University of Osnabrück, University of Osnabr...   \n",
       "3  [Alibaba Group and Ant Financial Services Grou...   \n",
       "\n",
       "                  csranking_x categories_x  \\\n",
       "0           [44.0, 44.0, inf]            0   \n",
       "1                   [1, 5, 5]            0   \n",
       "2                  [364, 364]            8   \n",
       "3  [inf, inf, inf, inf, 13.0]            0   \n",
       "\n",
       "                    authors_citations_x            authors_publications_x  \\\n",
       "0                      [12, 2780, 1067]                      [7, 219, 67]   \n",
       "1                     [378, 556, 24386]                     [21, 29, 309]   \n",
       "2                             [86, 749]                         [15, 135]   \n",
       "3  [15391.0, 11.0, nan, 6302.0, 9519.0]  [1304.0, 4.0, nan, 253.0, 329.0]   \n",
       "\n",
       "   ...                authors_citations_y       authors_publications_y  \\\n",
       "0  ...                   [12, 2625, 1024]                 [7, 215, 66]   \n",
       "1  ...                  [390, 576, 24893]                [22, 29, 310]   \n",
       "2  ...                          [87, 780]                    [15, 135]   \n",
       "3  ...  [14710, 11, 9, 12260, 6119, 9290]  [1304, 4, 2, 803, 253, 329]   \n",
       "\n",
       "         authors_hindex_y  arxiv_y  authors_citations_median_y  \\\n",
       "0             [1, 26, 14]    False                      1024.0   \n",
       "1             [9, 11, 74]    False                       576.0   \n",
       "2                 [5, 18]    False                       433.5   \n",
       "3  [54, 2, 1, 50, 32, 52]    False                      7704.5   \n",
       "\n",
       "   authors_publications_median_y  authors_hindex_median_y  reputation_y  \\\n",
       "0                           66.0                     14.0      1.217883   \n",
       "1                           29.0                     11.0      1.910091   \n",
       "2                           75.0                     11.5      0.831087   \n",
       "3                          291.0                     41.0      1.465934   \n",
       "\n",
       "   has_top_company_y has_top_institution_y  \n",
       "0                  0                     0  \n",
       "1                  0                     1  \n",
       "2                  0                     0  \n",
       "3                  0                     0  \n",
       "\n",
       "[4 rows x 35 columns]"
      ]
     },
     "execution_count": 21,
     "metadata": {},
     "output_type": "execute_result"
    }
   ],
   "source": [
    "check = train.merge(test, on = 'paper')\n",
    "check"
   ]
  },
  {
   "cell_type": "markdown",
   "metadata": {},
   "source": [
    "Ok, we expected an empty dataframe, what is going on? The answer is that the same paper can be presented more than once, indeed, if we see the year of submission, we get the following."
   ]
  },
  {
   "cell_type": "code",
   "execution_count": 22,
   "metadata": {},
   "outputs": [
    {
     "data": {
      "text/html": [
       "<div>\n",
       "<style scoped>\n",
       "    .dataframe tbody tr th:only-of-type {\n",
       "        vertical-align: middle;\n",
       "    }\n",
       "\n",
       "    .dataframe tbody tr th {\n",
       "        vertical-align: top;\n",
       "    }\n",
       "\n",
       "    .dataframe thead th {\n",
       "        text-align: right;\n",
       "    }\n",
       "</style>\n",
       "<table border=\"1\" class=\"dataframe\">\n",
       "  <thead>\n",
       "    <tr style=\"text-align: right;\">\n",
       "      <th></th>\n",
       "      <th>paper</th>\n",
       "      <th>year_x</th>\n",
       "      <th>year_y</th>\n",
       "    </tr>\n",
       "  </thead>\n",
       "  <tbody>\n",
       "    <tr>\n",
       "      <th>0</th>\n",
       "      <td>Unified recurrent network for many feature types</td>\n",
       "      <td>2020</td>\n",
       "      <td>2019</td>\n",
       "    </tr>\n",
       "    <tr>\n",
       "      <th>1</th>\n",
       "      <td>Deep Imitative Models for Flexible Inference, ...</td>\n",
       "      <td>2019</td>\n",
       "      <td>2020</td>\n",
       "    </tr>\n",
       "    <tr>\n",
       "      <th>2</th>\n",
       "      <td>Data augmentation instead of explicit regulari...</td>\n",
       "      <td>2018</td>\n",
       "      <td>2020</td>\n",
       "    </tr>\n",
       "    <tr>\n",
       "      <th>3</th>\n",
       "      <td>Double Neural Counterfactual Regret Minimization</td>\n",
       "      <td>2020</td>\n",
       "      <td>2019</td>\n",
       "    </tr>\n",
       "  </tbody>\n",
       "</table>\n",
       "</div>"
      ],
      "text/plain": [
       "                                               paper  year_x  year_y\n",
       "0   Unified recurrent network for many feature types    2020    2019\n",
       "1  Deep Imitative Models for Flexible Inference, ...    2019    2020\n",
       "2  Data augmentation instead of explicit regulari...    2018    2020\n",
       "3   Double Neural Counterfactual Regret Minimization    2020    2019"
      ]
     },
     "execution_count": 22,
     "metadata": {},
     "output_type": "execute_result"
    }
   ],
   "source": [
    "check[['paper', 'year_x', 'year_y']]"
   ]
  },
  {
   "cell_type": "markdown",
   "metadata": {},
   "source": [
    "The split is not wrong: we need to consider those submissions as independent, even if the paper is the same, since the decision might be different, as well as the scores. But we had to point this out."
   ]
  },
  {
   "cell_type": "markdown",
   "metadata": {},
   "source": [
    "#### *Subtask* 1.2.2\n",
    "\n",
    "Let's longitudinally split the dataset, taking the articles written before the year 2020 as training, and the 2020 ones as test. As you can see, this means that roughly 50% of the articles will be used to train the following models."
   ]
  },
  {
   "cell_type": "code",
   "execution_count": 23,
   "metadata": {},
   "outputs": [
    {
     "name": "stdout",
     "output_type": "stream",
     "text": [
      "Train longitudinal set shape: (2204, 18)\n",
      "Test longitudinal set shape: (2052, 18)\n"
     ]
    }
   ],
   "source": [
    "# Performing the longitudinal split\n",
    "train_longitudinal = df[ (df['year'] != 2020) ]\n",
    "test_longitudinal = df.drop(train_longitudinal.index)\n",
    "\n",
    "# Printing the shape of the result\n",
    "print(f\"Train longitudinal set shape: {train_longitudinal.shape}\\nTest longitudinal set shape: {test_longitudinal.shape}\")"
   ]
  },
  {
   "cell_type": "markdown",
   "metadata": {},
   "source": [
    "### Task 1.3"
   ]
  },
  {
   "cell_type": "markdown",
   "metadata": {},
   "source": [
    "Firstly, we build X (feature matrix) and Y (labels) from the two previous splits, and we create the two models. To create the model, we standardize the data, to have the same scale for every considered feature."
   ]
  },
  {
   "cell_type": "code",
   "execution_count": 24,
   "metadata": {},
   "outputs": [],
   "source": [
    "def get_data_and_label(train, test, features, label):\n",
    "    \"\"\"\n",
    "    Given a training and a testing dataset, splits them into X_train (the training feature matrix), X_test (the testing feature matrix), Y_train(the training labels) and Y_test (the testing labels).\n",
    "    Only the column specified as features will be kept in the feature matrix, the other columns of the dataframes will be dropped.\n",
    "    \n",
    "    :param train: the training dataset\n",
    "    :type train: pandas.DataFrame\n",
    "    :param test: the testing dataset\n",
    "    :type test: pandas.DataFrame\n",
    "    :param features: list of features (columns of the two dataframes) that will be used to make the prediction\n",
    "    :type features: list\n",
    "    :param label: the label (column of the two dataframes) we want to predict\n",
    "    :type label: str\n",
    "    \n",
    "    :return: The training and test feature matrices and label vectors\n",
    "    :rtype: tuple\n",
    "    \"\"\"\n",
    "    \n",
    "    X_train = train[features]\n",
    "    Y_train = train[label]\n",
    "    X_test = test[features]\n",
    "    Y_test = test[label]\n",
    "    \n",
    "    return X_train, X_test, Y_train, Y_test\n",
    "\n",
    "\n",
    "def standardize (X_train, X_test, columns_exception = []):\n",
    "    \"\"\"\n",
    "    Function to standardize the train and test data of a model.\n",
    "    \n",
    "    :param X_train: the training feature matrix\n",
    "    :type X_train: pandas.DataFrame\n",
    "    :param X_test: the test feature matrix\n",
    "    :type X_test: pandas.DataFrame\n",
    "    :param columns_exception: the features that we don't want to standardize (E.g. binary features)\n",
    "    :type columns_exception: list\n",
    "    \"\"\"\n",
    "    # Initializing the standardized dataframes\n",
    "    X_train_std = pd.DataFrame()\n",
    "    X_test_std = pd.DataFrame()\n",
    "    \n",
    "    # Standardizing the data\n",
    "    for column in X_train.columns:\n",
    "        if not column in columns_exception:\n",
    "            \n",
    "            # Computing the mean and the std on the training set\n",
    "            mean = X_train[column].mean()\n",
    "            std = X_train[column].std()\n",
    "            \n",
    "            # Standardizing the training and the test set with the values computed on the training set\n",
    "            X_train_std[column] = (X_train[column] - mean) / std\n",
    "            X_test_std[column] = (X_test[column] - mean) / std\n",
    "        else:\n",
    "            X_train_std[column] = X_train[column]\n",
    "            X_test_std[column] = X_test[column]\n",
    "            \n",
    "    return X_train_std, X_test_std\n",
    "    \n",
    "\n",
    "def build_model(X_train, Y_train, X_test, Y_test):\n",
    "    \"\"\"\n",
    "    Given a training and a test feature matrix, with the corresponding label vectors, this function builds a linear regression model, \n",
    "    fits it with the training data and tests it over the testing data, returning the predicted labels and the corresponding R2 (R squared) score.\n",
    "    \n",
    "    :param X_train: the training feature matrix\n",
    "    :type X_train: pandas.DataFrame\n",
    "    :param Y_train: The training label vector\n",
    "    :type Y_train: pandas.Series\n",
    "    :param X_test: the test feature matrix\n",
    "    :type X_test: pandas.DataFrame\n",
    "    :param Y_test: the test label vector\n",
    "    :type Y_test: pandas.Series\n",
    "    \n",
    "    :return: the prediction made on the test dataset and the related R2 (R squared) score.\n",
    "    :rtype: tuple\n",
    "    \"\"\"\n",
    "    \n",
    "            \n",
    "    # Initializing the linear regression model\n",
    "    linear = LinearRegression()\n",
    "    \n",
    "    # Fitting (training) the model\n",
    "    linear.fit(X_train, Y_train)\n",
    "    \n",
    "    # Predicting the labels of the test samples\n",
    "    Y_pred = linear.predict(X_test)\n",
    "    \n",
    "    # Computing the R2 score for the prediction\n",
    "    r2 = metrics.r2_score(Y_test, Y_pred)\n",
    "    \n",
    "    # De-standardizing the result\n",
    "    \n",
    "    return Y_pred, r2"
   ]
  },
  {
   "cell_type": "code",
   "execution_count": 25,
   "metadata": {},
   "outputs": [],
   "source": [
    "# Declaring the columns that will be used to make the prediction\n",
    "feature_cols = ['authors_citations_median', 'authors_publications_median', 'authors_hindex_median', 'reputation'] \n",
    "\n",
    "# Getting the feature matrices (training and test) and their respective label vectors for the dataframes obtained with the random split\n",
    "X_train_random, X_test_random, Y_train_random, Y_test_random = get_data_and_label(train, test, feature_cols, 'ratings')\n",
    "\n",
    "#Standardizing the data (random split)\n",
    "X_train_random_std, X_test_random_std = standardize(X_train_random, X_test_random)\n",
    "\n",
    "# Getting the feature matrices (training and test) and their respective label vectors for the dataframes obtained with the longitudinal split\n",
    "X_train_long, X_test_long, Y_train_long, Y_test_long = get_data_and_label(train_longitudinal, test_longitudinal, feature_cols, 'ratings')\n",
    "\n",
    "#Standardizing the data (longitudinal split)\n",
    "X_train_long_std, X_test_long_std = standardize(X_train_long, X_test_long)"
   ]
  },
  {
   "cell_type": "code",
   "execution_count": 26,
   "metadata": {},
   "outputs": [],
   "source": [
    "# Predicting the labels of the test datapoints (RANDOM SPLIT) and computing the respective R2 score\n",
    "Y_pred_random, r2_random = build_model(X_train_random_std, Y_train_random, X_test_random_std, Y_test_random)\n",
    "\n",
    "# Predicting the labels of the test datapoints (LONGITUDINAL SPLIT) and computing the respective R2 score\n",
    "Y_pred_long, r2_long = build_model(X_train_long_std, Y_train_long, X_test_long_std, Y_test_long)"
   ]
  },
  {
   "cell_type": "markdown",
   "metadata": {},
   "source": [
    "#### *Subtask* 1.3.1"
   ]
  },
  {
   "cell_type": "markdown",
   "metadata": {},
   "source": [
    "We now report the $R^2$ score for the two models and, for better understand what is going on, we plot the predicted values against the real values for the test set. The $R^2$ scores, and the two plots, clearly show that a linear model is not the right path to follow in this case."
   ]
  },
  {
   "cell_type": "code",
   "execution_count": 28,
   "metadata": {},
   "outputs": [
    {
     "name": "stdout",
     "output_type": "stream",
     "text": [
      "Random split R squared (Linear Regressor): 0.08690868491765014\n",
      "Longitudinal split R squared (Linear Regressor): -0.24009712493164104\n"
     ]
    }
   ],
   "source": [
    "print(f\"Random split R squared (Linear Regressor): {r2_random}\\nLongitudinal split R squared (Linear Regressor): {r2_long}\")"
   ]
  },
  {
   "cell_type": "code",
   "execution_count": 29,
   "metadata": {},
   "outputs": [
    {
     "data": {
      "image/png": "[encoded data removed]",
      "text/plain": [
       "<Figure size 1296x432 with 2 Axes>"
      ]
     },
     "metadata": {
      "needs_background": "light"
     },
     "output_type": "display_data"
    }
   ],
   "source": [
    "fig, ax = plt.subplots(1, 2, figsize=(18, 6), sharey = True)\n",
    "\n",
    "# Plotting the first model predictions\n",
    "ax[0].scatter(Y_test_random, Y_pred_random, edgecolors=(0, 0, 0))\n",
    "ax[0].plot([min(Y_test_random), max(Y_test_random)], [min(Y_test_random), max(Y_test_random)], 'r--', lw=2)\n",
    "ax[0].set_xlabel('Original - Random split')\n",
    "ax[0].set_ylabel('Predicted - Random split')\n",
    "ax[0].set_title('Random split model')\n",
    "\n",
    "#Plotting the second model predictions\n",
    "ax[1].scatter(Y_test_long, Y_pred_long, edgecolors=(0, 0, 0))\n",
    "ax[1].plot([min(Y_test_long), max(Y_test_long)], [min(Y_test_long), max(Y_test_long)], 'r--', lw=2)\n",
    "ax[1].set_xlabel('Original - Longitudinal split')\n",
    "ax[1].set_ylabel('Predicted - Longitudinal split')\n",
    "ax[1].set_title('Longitudinal split model')\n",
    "ax[1].yaxis.set_tick_params(labelleft=True)\n",
    "\n",
    "plt.show()"
   ]
  },
  {
   "cell_type": "markdown",
   "metadata": {},
   "source": [
    "#### *Subtask* 1.3.2"
   ]
  },
  {
   "cell_type": "markdown",
   "metadata": {},
   "source": [
    "_Why are the results different?_\n",
    "\n",
    "In the first case, the split is random, and the proportion between the train set and the test set is 70:30. In the second case, as we can notice from **Subtask 1.2.2**, the proportion between the two sets is almost 50:50. This means that the second model has less datapoints for training. However, we tried a random split with proportion 50:50, and the results are comparable with the ones obtained with the first model (random split 70:30) in terms of $R^2$ scores. Given that, it could be that the year 2020 is extremely different from the years 2018 and 2019 in terms of the correlation between the features taken into account and the average score of the paper. This means that, in the second case (longitudinal split), the model is trained on some data, and is tested on data which doesn't follow the same \"correlation function\".  \n",
    "\n",
    "To prove what we are claiming, this is what happens with a random 50:50 split."
   ]
  },
  {
   "cell_type": "code",
   "execution_count": 30,
   "metadata": {},
   "outputs": [
    {
     "name": "stdout",
     "output_type": "stream",
     "text": [
      "R squared score for a random 50:50 split (Linear Regressor): 0.08092997144610736\n"
     ]
    }
   ],
   "source": [
    "# Splitting the dataset (50% train, 50% test, random split)\n",
    "train_50, test_50 = random_split(df, frac = 0.5)\n",
    "\n",
    "# Getting the features and the labels for the two sets\n",
    "X_train_random_50, X_test_random_50, Y_train_random_50, Y_test_random_50 = get_data_and_label(train_50, test_50, feature_cols, 'ratings')\n",
    "\n",
    "#Standardizing the data\n",
    "X_train_50_std, X_test_50_std = standardize(X_train_random_50, X_test_random_50)\n",
    "\n",
    "# Creating the model and making the prediction\n",
    "_, r2_random_50 = build_model(X_train_50_std, Y_train_random_50, X_test_50_std, Y_test_random_50)\n",
    "\n",
    "# Printing the result\n",
    "print(f\"R squared score for a random 50:50 split (Linear Regressor): {r2_random_50}\")"
   ]
  },
  {
   "cell_type": "markdown",
   "metadata": {},
   "source": [
    "_So, why, in the second model the $R^2$ score is negative? And what does that mean?_\n",
    "\n",
    "A negative $R^2$ is possible. The $R^2$ compares the fit of the model with the one of a horizontal line, representing the mean of the training labels. This corresponds to the question: \"what happens if I always predict the mean of the training labels for every test datapoint\"? In other words: what if the labels and the features are not correlated?\n",
    "If the $R^2$ is negative, it means that always predicting the aforementioned mean would be a better prediction than the one made by the model. Indeed, given the $R^2$ formulation:\n",
    "\n",
    "### <center> $R^2$ = $1- \\frac{RSS}{TSS}$ </center>\n",
    "\n",
    "Where RSS and TSS are defined as:\n",
    "\n",
    "### <center> $RSS$ = $\\sum_{i = 1}^{N} (Y_i - \\hat{Y_i})^2 $ </center>\n",
    "### <center> $TSS$ = $\\sum_{i = 1}^{N} (Y_i - \\overline{Y})^2 $ </center>\n",
    "\n",
    "Where $\\hat{Y_i}$ are the predicted values, $Y_i$ are the true values and $\\overline{Y}$ is the mean of the training labels, if the predicted labels are equal to the mean of the training labels ($\\hat{Y_i}$ = $\\overline{Y}$ for each i)\n",
    "RSS = TSS and thus $R^2$ = 0, which means that the model doesn't explain the data. In our second case RSS > TSS, so the predicted values are worse than predicting the mean, and so $R^2$ < 0.\n",
    "\n",
    "As said before, this could happen because the data from 2018 and 2019 are drastically different from the ones from 2020, in terms of correlation between the average score of the papers and the authors-related features that we have taken into account, so making prediction for the year 2020 trough a model built on 2018 and 2019 data is not a good idea. Anyway, since even the $R^2$ value of the first model is close to 0, we can state that, in general, using the aforementioned features to train a **linear** regression model to predict papers' scores doesn't give good results. Maybe a more complex model would lead to better predictions."
   ]
  },
  {
   "cell_type": "markdown",
   "metadata": {},
   "source": [
    "#### *Subtask* 1.3.3"
   ]
  },
  {
   "cell_type": "markdown",
   "metadata": {},
   "source": [
    "We plot the residuals distribution. Then we compute the probability for a residual to be higher than 2 or lower than -2 (which means that the prediction, in that case, is off by more than two points). \n",
    "We provide three confident intervals: 90%, 95%, 99% which are computed using the following function. For each bootstrapped set (with replacement), 50% of the data is taken into account."
   ]
  },
  {
   "cell_type": "code",
   "execution_count": 31,
   "metadata": {},
   "outputs": [],
   "source": [
    "def residual_CI(data, percentage, n_draws = 1000):\n",
    "    \"\"\"\n",
    "    Computes the confidence interval at the specified percentage for the residuals of being off by more than two points.\n",
    "    \n",
    "    :param data: array of values on which compute the confidence interval\n",
    "    :type data: numpy.ndarray\n",
    "    :param percentage: the percentage of the confidence interval\n",
    "    :type percentage: int\n",
    "    :param n_draw: the number of draws to compute\n",
    "    :type n_draw: int, optional\n",
    "    \n",
    "    :return: the confidence interval\n",
    "    :rtype: list\n",
    "    \"\"\"\n",
    "    \n",
    "    # Declaring the list of the probabilities computed on each draw\n",
    "    values = []\n",
    "    \n",
    "    for n in range(n_draws):\n",
    "        \n",
    "        # Shuffling the data and creating the set\n",
    "        indices = np.random.randint(0, len(data), len(data))\n",
    "        d = data[indices]\n",
    "        \n",
    "        # Computing the probability of a prediction being off by more than two points for the bootstrapped set\n",
    "        values.append((np.abs(d) > 2).sum() / len(d))\n",
    "        \n",
    "    percentile = (100 - percentage) / 2\n",
    "    \n",
    "    return [np.nanpercentile(values, percentile), np.nanpercentile(values, percentage + percentile)]"
   ]
  },
  {
   "cell_type": "code",
   "execution_count": 32,
   "metadata": {},
   "outputs": [
    {
     "name": "stdout",
     "output_type": "stream",
     "text": [
      "Probability of being off by more than two points: 0.1558339859044636\n",
      "90% Confidence interval: [0.14017227877838684, 0.17149569303054032]\n",
      "95% Confidence interval: [0.13547376664056382, 0.17621378230227092]\n",
      "99% Confidence interval: [0.12606891151135474, 0.18089663273296788]\n"
     ]
    },
    {
     "data": {
      "image/png": "[encoded data removed]",
      "text/plain": [
       "<Figure size 648x432 with 1 Axes>"
      ]
     },
     "metadata": {
      "needs_background": "light"
     },
     "output_type": "display_data"
    }
   ],
   "source": [
    "#Computing the residuals\n",
    "residuals = (Y_pred_random - Y_test_random)\n",
    "\n",
    "# Plotting the distribution of residuals\n",
    "fig = plt.figure(figsize =(9,6))\n",
    "sns.histplot(residuals,kde=True)\n",
    "plt.title(\"Distribution of residuals\")\n",
    "plt.xlabel(\"Residuals\")\n",
    "plt.ylabel(\"Frequency\")\n",
    "plt.xticks(np.linspace(min(residuals),max(residuals),len(residuals)//60),rotation=45,ha=\"right\");\n",
    "\n",
    "# Computing the probability of being off by more than two points (over the entire residuals list)\n",
    "probability_off = (np.abs(residuals.values) > 2).sum() / len(residuals.values)\n",
    "\n",
    "# Printing the aforementioned probability, with three confidence intervals (90%, 95%, 99%)\n",
    "print(f\"Probability of being off by more than two points: {probability_off}\")\n",
    "print(f\"90% Confidence interval: {residual_CI(residuals.values, 90)}\")\n",
    "print(f\"95% Confidence interval: {residual_CI(residuals.values, 95)}\")\n",
    "print(f\"99% Confidence interval: {residual_CI(residuals.values, 99)}\")"
   ]
  },
  {
   "cell_type": "markdown",
   "metadata": {},
   "source": [
    "#### *Subtask* 1.3.4"
   ]
  },
  {
   "cell_type": "markdown",
   "metadata": {},
   "source": [
    "__Honestly this task is a bit unclear: by \"already computed features\" did you mean until this point or in the original dataset? Since we had to make a choice, we interpreted this request as \"already computed features until this point\", hoping this is what you meant. Now, back to the task!__\n",
    "\n",
    "One could argue that a feature with high predictive power is one that correlates strongly with the outcome. \n",
    "\n",
    "* Intuitively, if a top company or top institution was involved in the writing of a paper, we could assume that the paper produced would be of higher quality, and\n",
    "  therefore would get a higher rating. \n",
    "  For this reason, we could consider the previously computed features ```has_top_company``` and ```has_top_institution```.\n",
    "*  Additionally, we notice a sharp decline in the mean ratings of papers from 2019 to 2020:\n",
    "   \n",
    "    -  2019 : 5.445812807881769\n",
    "    -  2020:  4.435916179337229 \n",
    "    \n",
    "   We could therefore gauge the influence of the ```year``` of publication of a paper by also adding it as a covariate.\n",
    "  "
   ]
  },
  {
   "cell_type": "markdown",
   "metadata": {},
   "source": [
    "####  *Subtask* 1.3.5"
   ]
  },
  {
   "cell_type": "code",
   "execution_count": 33,
   "metadata": {},
   "outputs": [
    {
     "name": "stdout",
     "output_type": "stream",
     "text": [
      "R squared score for a random split (70:30) with additional features (Linear Regressor): 0.14795563321203653\n"
     ]
    }
   ],
   "source": [
    "# Defining new set of features\n",
    "augmented_features = feature_cols + [\"has_top_company\",\"has_top_institution\",\"year\"]\n",
    "\n",
    "# Defining data and labels\n",
    "X_train_augmented,X_test_augmented,Y_train_augmented, Y_test_augmented = get_data_and_label(train, test, augmented_features, 'ratings')\n",
    "\n",
    "#Standardizing the data\n",
    "X_train_std_augmented, X_test_std_augmented = standardize(X_train_augmented, X_test_augmented, columns_exception = [\"has_top_company\",\"has_top_institution\"])\n",
    "\n",
    "# Training the model and testing it\n",
    "_,r2_augmented = build_model(X_train_std_augmented,Y_train_augmented,X_test_std_augmented,Y_test_augmented) \n",
    "\n",
    "# Printing the result\n",
    "print(f\"R squared score for a random split (70:30) with additional features (Linear Regressor): {r2_augmented}\")"
   ]
  },
  {
   "cell_type": "markdown",
   "metadata": {},
   "source": [
    "Our intuition was correct, as we get a slighlty better coefficient of determination. This implies that a greater portion of the variance could be explained by the covariates present in the model."
   ]
  },
  {
   "cell_type": "markdown",
   "metadata": {},
   "source": [
    "### Task 1.4"
   ]
  },
  {
   "cell_type": "markdown",
   "metadata": {},
   "source": [
    "#### *Subtask* 1.4.1"
   ]
  },
  {
   "cell_type": "markdown",
   "metadata": {},
   "source": [
    "We train the gradient boosting regressor with no additional parameters, using the same training and test set as before, coming from the 70:30 random split, and we report the $R^2$ score obtained. Unfortunately, we don't notice any significant improvement in the result."
   ]
  },
  {
   "cell_type": "code",
   "execution_count": 34,
   "metadata": {},
   "outputs": [],
   "source": [
    "def build_model_gb(X_train, Y_train, X_test, Y_test):\n",
    "    \"\"\"\n",
    "    Given a training and a test feature matrix, with the corresponding label vectors, this function builds a Gradient Boosting Regressor model, \n",
    "    fits it with the training data and tests it over the testing data, returning the predicted labels and the corresponding R2 (R squared) score.\n",
    "    \n",
    "    :param X_train: the training feature matrix\n",
    "    :type X_train: pandas.DataFrame\n",
    "    :param Y_train: The training label vector\n",
    "    :type Y_train: pandas.Series\n",
    "    :param X_test: the test feature matrix\n",
    "    :type X_test: pandas.DataFrame\n",
    "    :param Y_test: the test label vector\n",
    "    :type Y_test: pandas.Series\n",
    "    \n",
    "    :return: the prediction made on the test dataset and the related R2 (R squared) score.\n",
    "    :rtype: tuple\n",
    "    \"\"\"\n",
    "    \n",
    "    # Initializing the Gradient Boosting Regressor model\n",
    "    gd_boost = GradientBoostingRegressor()\n",
    "    \n",
    "    # Fitting (training) the model\n",
    "    gd_boost.fit(X_train, Y_train)\n",
    "    \n",
    "    # Predicting the labels of the test samples\n",
    "    Y_pred = gd_boost.predict(X_test)\n",
    "    \n",
    "    # Computing the R2 score for the prediction\n",
    "    r2 = metrics.r2_score(Y_test, Y_pred)\n",
    "    \n",
    "    return Y_pred, r2"
   ]
  },
  {
   "cell_type": "code",
   "execution_count": 35,
   "metadata": {},
   "outputs": [
    {
     "name": "stdout",
     "output_type": "stream",
     "text": [
      "R squared score for a random split (Gradient Boosting Regressor): 0.09978318955651333\n"
     ]
    }
   ],
   "source": [
    "# Creating the model and making the prediction\n",
    "Y_pred_boost,r2_boost = build_model_gb(X_train_random_std,Y_train_random,X_test_random_std,Y_test_random)\n",
    "\n",
    "# Printing the result\n",
    "print(f\"R squared score for a random split (Gradient Boosting Regressor): {r2_boost}\")"
   ]
  },
  {
   "cell_type": "markdown",
   "metadata": {},
   "source": [
    "#### *Subtask* 1.4.2"
   ]
  },
  {
   "cell_type": "markdown",
   "metadata": {},
   "source": [
    "We first define the crazy feature in the dataframe."
   ]
  },
  {
   "cell_type": "code",
   "execution_count": 36,
   "metadata": {},
   "outputs": [],
   "source": [
    "# Creating the new 'crazy' column\n",
    "df['crazy'] = np.where(df['ratings'].values>=4.96,9-df['ratings'],-1*df['ratings'])\n",
    "\n",
    "# Redefining train and test to include 'crazy'\n",
    "train, test = random_split(df, frac = 0.7)"
   ]
  },
  {
   "cell_type": "markdown",
   "metadata": {},
   "source": [
    "We then use this new feature as the only feature of our Gradient Boosted Regressor Model."
   ]
  },
  {
   "cell_type": "code",
   "execution_count": 37,
   "metadata": {},
   "outputs": [
    {
     "name": "stdout",
     "output_type": "stream",
     "text": [
      "R squared score for a random split with 'crazy' feature (Gradient Boosted Regressor): 0.9999589936595438\n"
     ]
    }
   ],
   "source": [
    "# Defining the training set and testing set according to the selected feature 'crazy'.\n",
    "# NOTE: since in this case crazy is the only feature, it is not standardized\n",
    "X_train_crazy, X_test_crazy, Y_train_crazy, Y_test_crazy  = get_data_and_label(train,test,'crazy','ratings')\n",
    "\n",
    "# Building the model, performing the predictions and computing the r2 score\n",
    "# NOTE: Regressor methods do not not accept 1-D arrays for the data (i.e single feature matrix), \n",
    "# so we add a 'wrapper' dimension with reshape(-1,1) applied to the values of X_train\n",
    "Y_pred_crazy_gdb,r2_crazy_gdb = build_model_gb(X_train_crazy.values.reshape(-1,1),Y_train_crazy,X_test_crazy.values.reshape(-1,1),Y_test_crazy)\n",
    "\n",
    "# Printing the result\n",
    "print(f\"R squared score for a random split with 'crazy' feature (Gradient Boosted Regressor): {r2_crazy_gdb}\")"
   ]
  },
  {
   "cell_type": "markdown",
   "metadata": {},
   "source": [
    "The $ R^{2} $ score is indeed impressive ! Let us compare it to the score of a linear regressor."
   ]
  },
  {
   "cell_type": "code",
   "execution_count": 78,
   "metadata": {},
   "outputs": [
    {
     "name": "stdout",
     "output_type": "stream",
     "text": [
      "R squared score for a random split with 'crazy' feature (Linear regressor): 0.4125706369245945\n"
     ]
    }
   ],
   "source": [
    "# Building the model, performing the predictions, and computing the r2 score\n",
    "Y_pred_crazy_lin,r2_crazy_lin = build_model(X_train_crazy.values.reshape(-1,1),Y_train_crazy,X_test_crazy.values.reshape(-1,1),Y_test_crazy)\n",
    "\n",
    "# Printing the result\n",
    "print(f\"R squared score for a random split with 'crazy' feature (Linear regressor): {r2_crazy_lin}\")"
   ]
  },
  {
   "cell_type": "markdown",
   "metadata": {},
   "source": [
    "#### *Subtask* 1.4.3 "
   ]
  },
  {
   "cell_type": "markdown",
   "metadata": {},
   "source": [
    "Why are gradient boosted regressors so much better  ? \n",
    "\n",
    "The two features (`crazy` and `ratings`) are of course highly correlated, but the function that relates `crazy` to `ratings` is not linear, so a simple linear regressor wouldn't catch this relation entirely. On the other hand, the method that we followed to build the new feature lends itself well to a decision tree classifier, as the ones used in Gradient Boosted Regression, which is no more than a set of decision trees (100 by default, with depth of 3) built on top of each other, in the sense that the output of a tree is used as input for the following one (Boosting approach). `Crazy` is directly related to `ratings` by the following formula: \n",
    " ### <center> $ Crazy =  9 \\times \\mathbb{1}_{ratings \\geq 4.96}  - ratings $"
   ]
  },
  {
   "cell_type": "markdown",
   "metadata": {},
   "source": [
    "## Task 1.5"
   ]
  },
  {
   "cell_type": "markdown",
   "metadata": {},
   "source": [
    "#### *Subtask* 1.5.1 "
   ]
  },
  {
   "cell_type": "markdown",
   "metadata": {},
   "source": [
    "We define a cross_validation method that splits the data into __N__ partitions and performs cross validation. We also define a function to compute the average $R^2$ score and its confidence interval."
   ]
  },
  {
   "cell_type": "code",
   "execution_count": 39,
   "metadata": {},
   "outputs": [],
   "source": [
    "def compute_CI(data, percentage, ndraws = 1000):\n",
    "    \"\"\"\n",
    "    This function returns the confidence interval for the mean of a given array. The confidence level is given as a parameter.\n",
    "    The confidence interval is obtained with the bootstrap technique.\n",
    "    \n",
    "    :param data: array of values on which compute the confidence interval and the mean\n",
    "    :type data: numpy.ndarray\n",
    "    :param percentage: the percentage of the confidence interval\n",
    "    :type percentage: int\n",
    "    :param n_draw: the number of draws to compute\n",
    "    :type n_draw: int, optional\n",
    "    \n",
    "    :return: the confidence interval and the computed mean\n",
    "    :rtype: tuple\n",
    "    \"\"\"\n",
    "\n",
    "    means = []\n",
    "    \n",
    "    # Computing the true mean of the given data.\n",
    "    true_mean = np.mean(data)\n",
    "    \n",
    "    # Sampling/Bootstrapping data\n",
    "    for n in range(ndraws):\n",
    "        indices = np.random.randint(0, len(data), len(data))\n",
    "        d = data[indices]\n",
    "        means.append(np.nanmean(d))\n",
    "    \n",
    "    percentile = (100 - percentage) / 2\n",
    "    \n",
    "    return [np.nanpercentile(means, percentile),np.nanpercentile(means, percentage + percentile)], true_mean"
   ]
  },
  {
   "cell_type": "code",
   "execution_count": 40,
   "metadata": {},
   "outputs": [],
   "source": [
    "def cross_validation(X, Y, K, model):\n",
    "    \"\"\"\n",
    "    Given a model, the number of folds, a feature matrix (the datapoints) and the related labels, this function performs a K-fold cross validation.\n",
    "    It returns the average R2 score with a 90% confidence interval\n",
    "    \n",
    "    :param X: the feature matrix / the datapoints\n",
    "    :type X: pandas.DataFrame\n",
    "    :param Y: the labels\n",
    "    :type Y: pandas.Series\n",
    "    :param K: the number of folds\n",
    "    :type K: int\n",
    "    :param model: the ML model\n",
    "    :type model: sklearn model\n",
    "    \n",
    "    :return: the average R2 (R squared) score and its confidence interval\n",
    "    :rtype: tuple\n",
    "    \"\"\"\n",
    "    \n",
    "    # Performing the cross validation\n",
    "    scores = cross_val_score(model, X, Y, cv = K, scoring = \"r2\")\n",
    "    \n",
    "    # Computing the average R2 score and the related confidence interval\n",
    "    CI, avg_r2 = compute_CI(scores, 90)\n",
    "    \n",
    "    return CI, avg_r2"
   ]
  },
  {
   "cell_type": "markdown",
   "metadata": {},
   "source": [
    "#### *Subtask* 1.5.2\n",
    "\n",
    "We decided to use the same features of **subtask 1.3.1** (_'authors_citations_median'_, _'authors_publications_median'_, _'authors_hindex_median'_, _'reputation'_), since no indication has been provided in this sense. "
   ]
  },
  {
   "cell_type": "code",
   "execution_count": 41,
   "metadata": {},
   "outputs": [
    {
     "name": "stdout",
     "output_type": "stream",
     "text": [
      "Number of estimators: 50 - Learning rate: 0.1 - Average R squared: 0.09904331187377116 - 90% Confidence interval: [0.07612953472637322, 0.12275642143206361]\n",
      "Number of estimators: 50 - Learning rate: 0.05 - Average R squared: 0.10114199247658133 - 90% Confidence interval: [0.080813461539708, 0.1225640922301677]\n",
      "Number of estimators: 50 - Learning rate: 0.01 - Average R squared: 0.05536616374383694 - 90% Confidence interval: [0.04443789343454532, 0.06565228082055308]\n",
      "Number of estimators: 75 - Learning rate: 0.1 - Average R squared: 0.09508145004122426 - 90% Confidence interval: [0.07206606536236754, 0.11899105569755405]\n",
      "Number of estimators: 75 - Learning rate: 0.05 - Average R squared: 0.10092110895291458 - 90% Confidence interval: [0.07859876458435194, 0.12368268722162745]\n",
      "Number of estimators: 75 - Learning rate: 0.01 - Average R squared: 0.07026375042614516 - 90% Confidence interval: [0.05697789551691496, 0.08341273304952047]\n",
      "Number of estimators: 100 - Learning rate: 0.1 - Average R squared: 0.0913725438292539 - 90% Confidence interval: [0.06709132604034942, 0.11604293860030446]\n",
      "Number of estimators: 100 - Learning rate: 0.05 - Average R squared: 0.09932801309030077 - 90% Confidence interval: [0.07699845092586385, 0.12207855587285618]\n",
      "Number of estimators: 100 - Learning rate: 0.01 - Average R squared: 0.08064221371780311 - 90% Confidence interval: [0.06603162490022939, 0.0969060527353719]\n",
      "Number of estimators: 150 - Learning rate: 0.1 - Average R squared: 0.08113818032148741 - 90% Confidence interval: [0.058254338321893466, 0.106622605497922]\n",
      "Number of estimators: 150 - Learning rate: 0.05 - Average R squared: 0.09731233422974332 - 90% Confidence interval: [0.07588369008961895, 0.12008831347994339]\n",
      "Number of estimators: 150 - Learning rate: 0.01 - Average R squared: 0.09239463608704294 - 90% Confidence interval: [0.07518572737695328, 0.11128128629555627]\n",
      "Number of estimators: 200 - Learning rate: 0.1 - Average R squared: 0.0714744332879385 - 90% Confidence interval: [0.048188511795486805, 0.09538408759377236]\n",
      "Number of estimators: 200 - Learning rate: 0.05 - Average R squared: 0.09236585964468566 - 90% Confidence interval: [0.0714851125471928, 0.11550831624773357]\n",
      "Number of estimators: 200 - Learning rate: 0.01 - Average R squared: 0.09819157893221031 - 90% Confidence interval: [0.0785964720977485, 0.11795604436620451]\n",
      "Number of estimators: 250 - Learning rate: 0.1 - Average R squared: 0.06178477560967681 - 90% Confidence interval: [0.036279799701395374, 0.0887700722681761]\n",
      "Number of estimators: 250 - Learning rate: 0.05 - Average R squared: 0.08715609569867104 - 90% Confidence interval: [0.06475288507377212, 0.11183742293685855]\n",
      "Number of estimators: 250 - Learning rate: 0.01 - Average R squared: 0.09978581163276362 - 90% Confidence interval: [0.07987448151125831, 0.1217232697602051]\n"
     ]
    }
   ],
   "source": [
    "# Splitting again the data into train and test sets\n",
    "train, test = random_split(df, frac = 0.7)\n",
    "\n",
    "# Separating the datapoints from their labels\n",
    "X_train, X_test, Y_train, Y_test = get_data_and_label(train, test, feature_cols, 'ratings')\n",
    "\n",
    "#Standardizing the data\n",
    "X_train_std, X_test_std = standardize(X_train, X_test)\n",
    "\n",
    "# Declaring the two lists with the number of estimators and all the possible learning rates\n",
    "n_estimators = [50, 75, 100, 150, 200, 250]\n",
    "learning_rates = [0.1, 0.05, 0.01]\n",
    "\n",
    "# This variables will hold the best combination and the best associated R2 score\n",
    "best_n_estimators = 0\n",
    "best_learning_rate = 0\n",
    "best_r2 = 0\n",
    "\n",
    "# Creating the array for the following visualization\n",
    "heatmap_array = np.zeros((len(n_estimators), len(learning_rates)))\n",
    "                      \n",
    "for i, n_estimator in enumerate(n_estimators):\n",
    "    for j, learning_rate in enumerate(learning_rates): \n",
    "        \n",
    "        # Initializing the model\n",
    "        gd_boost = GradientBoostingRegressor(n_estimators=n_estimator, learning_rate=learning_rate)\n",
    "        \n",
    "        # Performing the cross validation and computing the result\n",
    "        CI, avg_r2 = cross_validation(X_train_std, Y_train, 20, gd_boost)\n",
    "        heatmap_array[i, j] = avg_r2\n",
    "        \n",
    "        # Saving the best parameters and their score\n",
    "        if avg_r2 > best_r2:\n",
    "            best_r2 = avg_r2\n",
    "            best_n_estimators = n_estimator\n",
    "            best_learning_rate = learning_rate\n",
    "        \n",
    "        # Printing the results\n",
    "        print(f\"Number of estimators: {n_estimator} - Learning rate: {learning_rate} - Average R squared: {avg_r2} - 90% Confidence interval: {CI}\")"
   ]
  },
  {
   "cell_type": "markdown",
   "metadata": {},
   "source": [
    "For a better visualization of this result, let's create a heatmap!"
   ]
  },
  {
   "cell_type": "code",
   "execution_count": 42,
   "metadata": {},
   "outputs": [
    {
     "data": {
      "image/png": "[encoded data removed]",
      "text/plain": [
       "<Figure size 432x288 with 2 Axes>"
      ]
     },
     "metadata": {
      "needs_background": "light"
     },
     "output_type": "display_data"
    }
   ],
   "source": [
    "# Plotting a heatmap of average R2 scores in function of the number of estimators and the different learning rates\n",
    "ax = sns.heatmap(heatmap_array, xticklabels = learning_rates, yticklabels = n_estimators, annot = True, fmt = '.4f', cbar_kws={'label': 'Average R2 score'})\n",
    "ax.set_xlabel('Learning rate', fontsize = 12)\n",
    "ax.set_ylabel('Number of estimators', fontsize = 12)\n",
    "ax.figure.axes[-1].yaxis.label.set_size(12)"
   ]
  },
  {
   "cell_type": "markdown",
   "metadata": {},
   "source": [
    "#### *Subtask* 1.5.3\n",
    "\n",
    "Now that we obtained the best hyperparameters combination from the cross validation, let's see how the model performs on the test data."
   ]
  },
  {
   "cell_type": "code",
   "execution_count": 43,
   "metadata": {},
   "outputs": [
    {
     "name": "stdout",
     "output_type": "stream",
     "text": [
      "The best parameters between the ones given are:\n",
      "Number of estimators = 50\n",
      "Learning rate = 0.05\n",
      "\n",
      "The R squared metric for the testing set, with the best parameters of the cross validation, is:0.10241661714679973\n"
     ]
    }
   ],
   "source": [
    "# Initializing the Gradient Boosting Regressor Model with the best parameters found\n",
    "gd_boost = GradientBoostingRegressor(n_estimators=best_n_estimators, learning_rate=best_learning_rate)\n",
    "\n",
    "# Training the model\n",
    "gd_boost.fit(X_train_std, Y_train)\n",
    "\n",
    "# Predicting the labels of the test set\n",
    "Y_pred = gd_boost.predict(X_test_std)\n",
    "\n",
    "# Computing the R2 score of the prediction\n",
    "r2 = metrics.r2_score(Y_test, Y_pred)\n",
    "\n",
    "# Printing the results\n",
    "print(f\"The best parameters between the ones given are:\\nNumber of estimators = {best_n_estimators}\\nLearning rate = {best_learning_rate}\", end = '\\n\\n')\n",
    "print(f\"The R squared metric for the testing set, with the best parameters of the cross validation, is:{r2}\")"
   ]
  },
  {
   "cell_type": "markdown",
   "metadata": {},
   "source": [
    "Ok, the result is similar to what we expected."
   ]
  },
  {
   "cell_type": "markdown",
   "metadata": {},
   "source": [
    "#### *Subtask* 1.5.4\n",
    "\n",
    "_Why don't we tune the hyper-parameters in the testing set instead of doing cross-validation in the training set?_\n",
    "\n",
    "In order to avoid overfitting and to really understand the predictive power of the model, once it has been built and trained, it must be tested on unseen data. For this reason, if we use the test set to obtain the best parameters, we wouldn't have a test set to test the model on! How could we then understand if the model is good to predict over __new, unseen data__, if we don't have some \"new data\" to use as a test? \n",
    "\n",
    "For this reason, cross validation exists: at first we split our data into train and test set. This last set is never seen by the model during the training phase.\n",
    "\n",
    "Then with k-fold cross validation, the training set is split into k subsets. For each iteration of the algorithm, K-1 are used to train the model, the remaining one to validate it (see how well it behaves). Calling this cross validation multiple times we can tune our hyperparameters, train the model on the entire training set, and then (and only then) test its performance over the test set."
   ]
  },
  {
   "cell_type": "markdown",
   "metadata": {},
   "source": [
    "## _Step 2:_ What influences papers getting accepted?"
   ]
  },
  {
   "cell_type": "markdown",
   "metadata": {},
   "source": [
    "### Task 2.1"
   ]
  },
  {
   "cell_type": "markdown",
   "metadata": {},
   "source": [
    "#### *Subtask* 2.1.1\n",
    "\n",
    "At first we create two datasets, one containing the ratings of the papers that got accepted in 2020, the other one containing the ratings of the rejected ones (in the same year). Then, we plot the distribution of those ratings in the two datasets."
   ]
  },
  {
   "cell_type": "code",
   "execution_count": 44,
   "metadata": {},
   "outputs": [],
   "source": [
    "# Obtaining the ratings of accepted and rejected papers in 2020\n",
    "accepted_2020 = df[(df['year'] == 2020) & (df['decisions'] == 'Accept')]['ratings']\n",
    "rejected_2020 = df[(df['year'] == 2020) & (df['decisions'] == 'Reject')]['ratings']"
   ]
  },
  {
   "cell_type": "code",
   "execution_count": 45,
   "metadata": {},
   "outputs": [],
   "source": [
    "def plot_dist(ax, title, ylabel, data):\n",
    "    \"\"\"\n",
    "    Plots the distibution of giving data using the histplot function. \n",
    "    \n",
    "    :param ax: the axes of the subplot where to plot the distribution\n",
    "    :type ax: matplotlib.AxesSubplot\n",
    "    :param title: the title of the plot\n",
    "    :type title: str\n",
    "    :param ylabel: the label for the y axes\n",
    "    :type ylabel: str\n",
    "    :param data: the data of which to plot the distribution\n",
    "    :type data: pandas.Series\n",
    "    \n",
    "    \"\"\"\n",
    "    \n",
    "    # Plotting the distribution\n",
    "    sns.histplot(data, kde=True, ax = ax, stat = 'probability');\n",
    "    \n",
    "    # Settings the plot parameters \n",
    "    ax.set_title(title, fontsize = 14)\n",
    "    ax.set_ylabel(ylabel)"
   ]
  },
  {
   "cell_type": "code",
   "execution_count": 46,
   "metadata": {},
   "outputs": [
    {
     "data": {
      "image/png": "[encoded data removed]",
      "text/plain": [
       "<Figure size 1296x504 with 2 Axes>"
      ]
     },
     "metadata": {
      "needs_background": "light"
     },
     "output_type": "display_data"
    }
   ],
   "source": [
    "# Defining the figure with the relative subplots \n",
    "fig, axs = plt.subplots(1,2, figsize = (18, 7), sharey = True)\n",
    "\n",
    "# Plotting the distribution of ratings of 2020 accepted papers\n",
    "plot_dist(axs[0], 'Distribution of ratings of 2020 accepted papers', 'Probability', accepted_2020)\n",
    "\n",
    "# Plotting the distribution of rating of 2020 rejected papers\n",
    "plot_dist(axs[1], 'Distribution of ratings of 2020 rejected papers', 'Probability', rejected_2020)\n",
    "axs[1].yaxis.set_tick_params(labelleft=True)"
   ]
  },
  {
   "cell_type": "markdown",
   "metadata": {},
   "source": [
    "#### *Subtask* 2.1.2\n",
    "\n",
    "We want to compare the mean of two indipendent samples. In particular, we are in this situation:\n",
    "\n",
    "- $H_0$: The mean of the ratings of the papers that got accepted in 2020 is less or equal than the mean of the ratings of the rejected ones. __This is the Null Hypotesis of the test, the one we would like to reject__\n",
    "- $H_1$: The opposite - the mean of the ratings of the papers that got accepted in 2020 is higher than the mean of the ratings of the rejected ones (same year)."
   ]
  },
  {
   "cell_type": "code",
   "execution_count": 47,
   "metadata": {},
   "outputs": [
    {
     "name": "stdout",
     "output_type": "stream",
     "text": [
      "T value: 45.79777665813106, P-value (divided by two for our test): 2.6079785e-316\n"
     ]
    }
   ],
   "source": [
    "# Computing the t-statistic and the p-value for the hypothesis test\n",
    "t_value, p_value = ttest_ind(accepted_2020, rejected_2020)\n",
    "\n",
    "# Showing t-statistic and the p-value (divided by 2 because it is a one tailed test)\n",
    "print(f\"T value: {t_value}, P-value (divided by two for our test): {p_value/2}\")"
   ]
  },
  {
   "cell_type": "markdown",
   "metadata": {},
   "source": [
    "#### *Subtask* 2.1.3\n",
    "\n",
    "The ScyPy `ttest_ind` hypothesis test has a slightly different meaning with respect to what we are looking for, but it's still suitable for us. Its null hypothesis is that the mean of the two input distributions is equal (their difference is equal to 0), which means that this is a two tailed test. This means that, if we only looked at the P-value of this test without making more advanced considerations, we wouldn't really gain so much. The function, however, returns also the t-statistic of the test, which we can interptet, but how?\n",
    "\n",
    "- Let's call A the distrbution of the ratings of the accepted papers in the year 2020\n",
    "- Let's call B the distribution of the ratings of the rejected papers in the year 2020\n",
    "\n",
    "We want to reject the hypothesis mean(A) <= mean(B), given samples of the two distributions. So, in our case, we want to check that:\n",
    "\n",
    "1. The returned P-value, __divided by 2__ is less or equal than a given constant - usually 0.05 in this kind of tests to reject the hypothesys with 95% of confidence -.\n",
    "2. The returned T-statistic is greater than 0 - this means that the mean of the first distribution (A) minus the mean of the second (B), divided by the standard error of the difference between those means is positive, and thus, since the denominator of this quantity is always positive, the numerator must be __negative or 0__ in order to __NOT reject the null hypothesis__.\n",
    "\n",
    "As we can see, these two conditions are fulfilled and so we can state with reasonable certainty that the mean of the distribution of the ratings of the papers that got accepted in 2020 (A) is significantly higher than the mean of the distribution of the papers that got rejected in the same year (B). In other words, we reject $H_0$, and the only other possibility is to accept $H_1$."
   ]
  },
  {
   "cell_type": "markdown",
   "metadata": {},
   "source": [
    "### Task 2.2"
   ]
  },
  {
   "cell_type": "markdown",
   "metadata": {},
   "source": [
    "#### *Subtask* 2.2.1\n",
    "\n",
    "First of all, let's just consider the papers that have been submitted in 2020, and let's transform the `decisions` column into a binary variable that takes:\n",
    "- 0 $\\rightarrow$ Paper rejected\n",
    "- 1 $\\rightarrow$ Paper accepted\n",
    "\n",
    "Then we standardize the columns `ratings` and `reputation`. The second one will be used in __subtask 2.3.1__ . We do this because the two columns are different in terms of values taken, so they aren't really comparable.\n",
    "\n",
    "Before standardizing, we store the mean and the standard deviation of both columns in two variables, so that, in __subtask 2.2.2__ and in __task 3.3__, we can standardize the given rating and/or reputation accordingly."
   ]
  },
  {
   "cell_type": "code",
   "execution_count": 48,
   "metadata": {},
   "outputs": [],
   "source": [
    "# Creating the dataframe and the binary variable\n",
    "papers_2020 = df[df['year'] == 2020].replace({'decisions': 'Accept'}, 1).replace({'decisions': 'Reject'}, 0)\n",
    "\n",
    "# Storing mean and std for ratings\n",
    "ratings_mean = papers_2020['ratings'].mean()\n",
    "ratings_std = papers_2020['ratings'].std()\n",
    "\n",
    "# Storing mean and std for reputation\n",
    "reputation_mean = papers_2020['reputation'].mean()\n",
    "reputation_std = papers_2020['reputation'].std()\n",
    "\n",
    "# Standardizing the colunns ratings and reputation\n",
    "papers_2020['ratings'] = (papers_2020['ratings'] - ratings_mean) / ratings_std\n",
    "papers_2020['reputation'] = (papers_2020['reputation'] - reputation_mean) / reputation_std"
   ]
  },
  {
   "cell_type": "markdown",
   "metadata": {},
   "source": [
    "Now, we can build the model using the logistic regression."
   ]
  },
  {
   "cell_type": "code",
   "execution_count": 49,
   "metadata": {},
   "outputs": [],
   "source": [
    "# Building the function for the Logistic Regression (will come in handy also later on)\n",
    "def logistic_regression(outcome, variables, data):\n",
    "    \"\"\"\n",
    "    Performs the logistic regression for the outcome variable over the independent variables using the specified data.\n",
    "    \n",
    "    :param outcome: the dependent variabile\n",
    "    :type outcome: str\n",
    "    :param variables: the independent variables\n",
    "    :type variables: list\n",
    "    :param data: the dataset on which to build the model\n",
    "    :type data: pandas.DataFrame\n",
    "    \"\"\"\n",
    "    \n",
    "    # Building the model\n",
    "    model = smf.logit(formula=outcome + ' ~ ' + \" + \".join(variables), data=data)\n",
    "    \n",
    "    # Training the model\n",
    "    result = model.fit()\n",
    "    \n",
    "    # Printing the result\n",
    "    print(result.summary())"
   ]
  },
  {
   "cell_type": "code",
   "execution_count": 52,
   "metadata": {},
   "outputs": [
    {
     "name": "stdout",
     "output_type": "stream",
     "text": [
      "Optimization terminated successfully.\n",
      "         Current function value: 0.251882\n",
      "         Iterations 8\n",
      "                           Logit Regression Results                           \n",
      "==============================================================================\n",
      "Dep. Variable:              decisions   No. Observations:                 2052\n",
      "Model:                          Logit   Df Residuals:                     2050\n",
      "Method:                           MLE   Df Model:                            1\n",
      "Date:                Thu, 19 Nov 2020   Pseudo R-squ.:                  0.5913\n",
      "Time:                        15:11:12   Log-Likelihood:                -516.86\n",
      "converged:                       True   LL-Null:                       -1264.6\n",
      "Covariance Type:            nonrobust   LLR p-value:                     0.000\n",
      "==============================================================================\n",
      "                 coef    std err          z      P>|z|      [0.025      0.975]\n",
      "------------------------------------------------------------------------------\n",
      "Intercept     -2.3803      0.129    -18.428      0.000      -2.633      -2.127\n",
      "ratings        3.7693      0.176     21.438      0.000       3.425       4.114\n",
      "==============================================================================\n"
     ]
    }
   ],
   "source": [
    "# Building and fitting the logistic regression model, and printing the result\n",
    "logistic_regression('decisions', ['ratings'], papers_2020)"
   ]
  },
  {
   "cell_type": "markdown",
   "metadata": {},
   "source": [
    "#### *Subtask* 2.2.2"
   ]
  },
  {
   "cell_type": "markdown",
   "metadata": {},
   "source": [
    "Firstly, let's standardize the 7 in the same way as before."
   ]
  },
  {
   "cell_type": "code",
   "execution_count": 53,
   "metadata": {},
   "outputs": [
    {
     "name": "stdout",
     "output_type": "stream",
     "text": [
      "Standardized value: 1.6103328969568205\n"
     ]
    }
   ],
   "source": [
    "# Standardizing the number 7 according to the mean and std of the ratings column\n",
    "standardized_value = (7 - ratings_mean) / ratings_std\n",
    "\n",
    "# Printing the standardized value\n",
    "print(f\"Standardized value: {standardized_value}\")"
   ]
  },
  {
   "cell_type": "markdown",
   "metadata": {},
   "source": [
    "In our model we have an intercept of __-2.3803__ and a coefficient for the variable `ratings` of __3.7693__. \n",
    "This means that, in this case, the logistic regression gives us the following formula:\n",
    "\n",
    "### <center> $ ln(\\frac{p}{1-p}) =  -2.3803 + r \\cdot 3.7693 $ </center>\n",
    "\n",
    "where p is, of course, the probability for a paper of being accepted.\n",
    "So, we obtain the following for a rating equals to 7:\n",
    "    \n",
    "### <center> $ p = \\frac{e^{-2.3803 + 1.61033 \\cdot 3.7693}}{1+ e^{-2.3803+ 1.61033 \\cdot 3.7693}} = 0.976  $ </center>\n",
    "\n",
    "Of course this result makes total sense, since, from the previous plots (__subtask 2.1.1__), we can notice that the number of rejected papers with a 7 rating is almost equal to 0, while the number of accepted papers with the same rating is very high."
   ]
  },
  {
   "cell_type": "markdown",
   "metadata": {},
   "source": [
    "### Task 2.3"
   ]
  },
  {
   "cell_type": "markdown",
   "metadata": {},
   "source": [
    "#### *Subtask* 2.3.1\n",
    "\n",
    "First of all, let's modify the column `arxiv` such that we have integer numbers (1, 0) and not boolean values."
   ]
  },
  {
   "cell_type": "code",
   "execution_count": 54,
   "metadata": {},
   "outputs": [],
   "source": [
    "# Converting the feature 'arxiv' to 0 - 1 instead of False - True\n",
    "papers_2020['arxiv'] = papers_2020['arxiv'].astype(int)"
   ]
  },
  {
   "cell_type": "markdown",
   "metadata": {},
   "source": [
    "Now, let's create the model and print the result.\n",
    "\n",
    "Please note: we treated `arxiv` as a categorical variable, not following the given formula, because it actually is categorical. However, the coefficients don't change if we treat the variable as not categorical."
   ]
  },
  {
   "cell_type": "code",
   "execution_count": 55,
   "metadata": {},
   "outputs": [
    {
     "name": "stdout",
     "output_type": "stream",
     "text": [
      "Optimization terminated successfully.\n",
      "         Current function value: 0.250440\n",
      "         Iterations 8\n",
      "                           Logit Regression Results                           \n",
      "==============================================================================\n",
      "Dep. Variable:              decisions   No. Observations:                 2052\n",
      "Model:                          Logit   Df Residuals:                     2048\n",
      "Method:                           MLE   Df Model:                            3\n",
      "Date:                Thu, 19 Nov 2020   Pseudo R-squ.:                  0.5936\n",
      "Time:                        15:11:26   Log-Likelihood:                -513.90\n",
      "converged:                       True   LL-Null:                       -1264.6\n",
      "Covariance Type:            nonrobust   LLR p-value:                     0.000\n",
      "=================================================================================\n",
      "                    coef    std err          z      P>|z|      [0.025      0.975]\n",
      "---------------------------------------------------------------------------------\n",
      "Intercept        -2.4865      0.143    -17.419      0.000      -2.766      -2.207\n",
      "C(arxiv)[T.1]     0.2890      0.167      1.727      0.084      -0.039       0.617\n",
      "ratings           3.7484      0.176     21.296      0.000       3.403       4.093\n",
      "reputation        0.1251      0.082      1.533      0.125      -0.035       0.285\n",
      "=================================================================================\n"
     ]
    }
   ],
   "source": [
    "# Building the model, printing the result\n",
    "logistic_regression('decisions', ['ratings', 'reputation', 'C(arxiv)'], papers_2020)"
   ]
  },
  {
   "cell_type": "markdown",
   "metadata": {},
   "source": [
    "#### *Subtask* 2.3.2\n",
    "\n",
    "We see that the coefficient of the variable `arxiv` is equal to 0.289, which means that, when `arxiv` is equal to one, the odds is multiplied by $ e^{0.289} = 1.3305 $ with respect to the same odds when `arxiv` is equal to 0 and the other variables (`ratings` and `reputation`) are fixed. We observe that this value does not seem to have a significant impact over the odds and, consequently, the probability for a paper to be accepted. Indeed we see that the P value associated to `arxiv` in the regression is equal to 0.084, which is greater than 0.05, so we __cannot__ reject the null hypothesis that `arxiv` is completely uncorrelated with the outcome.\n"
   ]
  },
  {
   "cell_type": "markdown",
   "metadata": {},
   "source": [
    "### Task 2.4"
   ]
  },
  {
   "cell_type": "markdown",
   "metadata": {},
   "source": [
    "#### *Subtask* 2.4.1"
   ]
  },
  {
   "cell_type": "code",
   "execution_count": 56,
   "metadata": {},
   "outputs": [
    {
     "name": "stdout",
     "output_type": "stream",
     "text": [
      "Optimization terminated successfully.\n",
      "         Current function value: 0.247320\n",
      "         Iterations 8\n",
      "                           Logit Regression Results                           \n",
      "==============================================================================\n",
      "Dep. Variable:              decisions   No. Observations:                 2052\n",
      "Model:                          Logit   Df Residuals:                     2046\n",
      "Method:                           MLE   Df Model:                            5\n",
      "Date:                Thu, 19 Nov 2020   Pseudo R-squ.:                  0.5987\n",
      "Time:                        15:11:38   Log-Likelihood:                -507.50\n",
      "converged:                       True   LL-Null:                       -1264.6\n",
      "Covariance Type:            nonrobust   LLR p-value:                     0.000\n",
      "=============================================================================================================\n",
      "                                                coef    std err          z      P>|z|      [0.025      0.975]\n",
      "-------------------------------------------------------------------------------------------------------------\n",
      "Intercept                                    -2.6110      0.161    -16.235      0.000      -2.926      -2.296\n",
      "C(arxiv)[T.1]                                 0.1061      0.200      0.529      0.597      -0.287       0.499\n",
      "C(has_top_institution)[T.1]                   0.3662      0.224      1.631      0.103      -0.074       0.806\n",
      "C(arxiv)[T.1]:C(has_top_institution)[T.1]     0.5793      0.370      1.568      0.117      -0.145       1.304\n",
      "ratings                                       3.7951      0.179     21.171      0.000       3.444       4.146\n",
      "reputation                                    0.0886      0.083      1.072      0.284      -0.073       0.251\n",
      "=============================================================================================================\n"
     ]
    }
   ],
   "source": [
    "# Building the model, printing the result\n",
    "logistic_regression('decisions', ['ratings', 'reputation', 'C(arxiv)*C(has_top_institution)'], papers_2020)"
   ]
  },
  {
   "cell_type": "markdown",
   "metadata": {},
   "source": [
    "#### *Subtask* 2.4.2\n",
    "\n",
    "By looking at the P-values of the coefficients of interest, we notice that `arxiv`, `has_top_institution`, and `has_top_institution` * `arxiv` do not seem to be significant in the regression. Indeed:\n",
    "\n",
    "- P-value of `arxiv` = 0.597\n",
    "- P-value of `has_top_institution` = 0.103\n",
    "- P-value of `arxiv` * `has_top_institution` = 0.117\n",
    "\n",
    "So we can't reject the null hypothesis that those variables are completely uncorrelated with the outcome, and so we have no evidence that pre-printing breaks double-blind submissions."
   ]
  },
  {
   "cell_type": "markdown",
   "metadata": {},
   "source": [
    "## Step 3: Matching"
   ]
  },
  {
   "cell_type": "markdown",
   "metadata": {},
   "source": [
    "### Task 3.1"
   ]
  },
  {
   "cell_type": "markdown",
   "metadata": {},
   "source": [
    "Firstly, let's just load the propensity scores dataset and have a look at it."
   ]
  },
  {
   "cell_type": "code",
   "execution_count": 57,
   "metadata": {},
   "outputs": [
    {
     "data": {
      "text/html": [
       "<div>\n",
       "<style scoped>\n",
       "    .dataframe tbody tr th:only-of-type {\n",
       "        vertical-align: middle;\n",
       "    }\n",
       "\n",
       "    .dataframe tbody tr th {\n",
       "        vertical-align: top;\n",
       "    }\n",
       "\n",
       "    .dataframe thead th {\n",
       "        text-align: right;\n",
       "    }\n",
       "</style>\n",
       "<table border=\"1\" class=\"dataframe\">\n",
       "  <thead>\n",
       "    <tr style=\"text-align: right;\">\n",
       "      <th></th>\n",
       "      <th>paper</th>\n",
       "      <th>propensity_score</th>\n",
       "    </tr>\n",
       "  </thead>\n",
       "  <tbody>\n",
       "    <tr>\n",
       "      <th>0</th>\n",
       "      <td>Pitfalls of In-Domain Uncertainty Estimation a...</td>\n",
       "      <td>0.360486</td>\n",
       "    </tr>\n",
       "    <tr>\n",
       "      <th>1</th>\n",
       "      <td>An Inductive Bias for Distances: Neural Nets t...</td>\n",
       "      <td>0.567842</td>\n",
       "    </tr>\n",
       "    <tr>\n",
       "      <th>2</th>\n",
       "      <td>Stochastic AUC Maximization with Deep Neural N...</td>\n",
       "      <td>0.334322</td>\n",
       "    </tr>\n",
       "    <tr>\n",
       "      <th>3</th>\n",
       "      <td>On the interaction between supervision and sel...</td>\n",
       "      <td>0.402644</td>\n",
       "    </tr>\n",
       "    <tr>\n",
       "      <th>4</th>\n",
       "      <td>Towards Better Understanding of Adaptive Gradi...</td>\n",
       "      <td>0.334322</td>\n",
       "    </tr>\n",
       "  </tbody>\n",
       "</table>\n",
       "</div>"
      ],
      "text/plain": [
       "                                               paper  propensity_score\n",
       "0  Pitfalls of In-Domain Uncertainty Estimation a...          0.360486\n",
       "1  An Inductive Bias for Distances: Neural Nets t...          0.567842\n",
       "2  Stochastic AUC Maximization with Deep Neural N...          0.334322\n",
       "3  On the interaction between supervision and sel...          0.402644\n",
       "4  Towards Better Understanding of Adaptive Gradi...          0.334322"
      ]
     },
     "execution_count": 57,
     "metadata": {},
     "output_type": "execute_result"
    }
   ],
   "source": [
    "# Loading the propensity scores dataset and printing some samples\n",
    "propensity_df = pd.read_csv(PROPENSITY_SCORES_PATH)\n",
    "propensity_df.head()"
   ]
  },
  {
   "cell_type": "markdown",
   "metadata": {},
   "source": [
    "#### *Subtask* 3.1.1\n",
    "\n",
    "We merge the just loaded dataset with the 2020 papers one, on the paper name."
   ]
  },
  {
   "cell_type": "code",
   "execution_count": 58,
   "metadata": {},
   "outputs": [],
   "source": [
    "# Merging the just loaded dataset with the one containing the 2020 papers\n",
    "df_with_prop = papers_2020.merge(propensity_df, on = 'paper')"
   ]
  },
  {
   "cell_type": "markdown",
   "metadata": {},
   "source": [
    "#### *Subtask* 3.1.2\n",
    "\n",
    "The propensity score is not a prediction per se, as we are not testing the resulting \"model\" on unseen data, simply because this is not our purpose. \n",
    "Instead, we want to compute a score for each sample according to a certain set of its features (typically all of them), precisely, the probability for a paper to be pre-printed. As such, we want to compute this value for every sample in our dataset, hence, we lose this notion of training sets and testing sets.\n",
    "\n",
    "So, in Step 1, we want to create a model to do __predictions__ of the average rating of a new, unseen paper. Therefore, the use of a testing set is necessary to assess the performance of our model. \n",
    "In this case, there is no assessment to be done, we just compute a score for known data and that's all we want. If a new sample is given, we cannot use the same model to compute its propensity score, as it is a function of the underlying distribution of the data; i.e, adding a new point would modify the distribution."
   ]
  },
  {
   "cell_type": "markdown",
   "metadata": {},
   "source": [
    "### Task 3.2"
   ]
  },
  {
   "cell_type": "markdown",
   "metadata": {},
   "source": [
    "#### *Subtask* 3.2.1"
   ]
  },
  {
   "cell_type": "markdown",
   "metadata": {},
   "source": [
    "There are several ways to produce a 1-to-1 matching on the papers, but there are specificities that we need to consider: \n",
    "- The treatment set (papers that got pre-printed - 590) is smaller than the control set (papers that did not get pre-printed - 1462). \n",
    "- It could be that several papers share some candidates for matching accross the control group and then we should decide which approach to take: \n",
    "    1. __Maximizing the number of matchings__: To be clear about the problem, let's make an example: if we decide to store matchings which follow the given constraint ( $|p_{c} - p_t| < \\epsilon$ ) in a dictonary like:\n",
    "    \n",
    "    `{paper_treatment_id_1:[paper_control_id_1, paper_control_id_2, ...], ...}` \n",
    "    \n",
    "    and we have the following example \n",
    "    \n",
    "    `{1:[50, 10], 2:[70, 20], 3:[70, 50]}`\n",
    "    \n",
    "    without any advanced algorithm, let's say we just select the first control paper. So we choose 50 for the first treatment paper, 70 for the second one and we discard the third one (remember that the matching must be 1 to 1). Actually, choosing 10 for the first treatment paper, 70 for the second and 50 for the third, we are able to keep all the treatment papers.\n",
    "    \n",
    "    2. __Maximizing the similarity for each matching, considering subsequent matchings__: For instance, if we decide to store data in a dictonary like \n",
    "    \n",
    "    `{paper_treatment_id_1: { paper_control_id_1 : inverse_similarity ,  paper_control_id_2 : inverse_similarity, ... }, ...}` \n",
    "    \n",
    "    where _inverse\\_similarity_ is the absolute value of the difference of the treatment paper propensity score and the related control paper propensity score (lower is better), and if we have the following matchings, where each list of possible control papers for each treatment paper is sorted according to the _inverse\\_similarity_ score: \n",
    "    \n",
    "    `{1: { 40:0.2 , 50:0.5 } , 2: { 40:0.3 , 50:0.6} , 3: {40:0.4 , 50:0.5}}`\n",
    "    \n",
    "    without any advanced algoithm, we just select 40 for the the first treatment paper, 50 for the second one (control paper number 40 is already taken) and we discard the third treatment paper (control papers number 40 and 50 are taken). \n",
    "    But if we chose a more sophisticated approach, we can see that chosing the third treatment paper (3) instead of the second one for a match with the control paper number 50 would be globally better.\n",
    "  \n",
    "  These problems seem complex to deal with, and are mutually exclusive (either we choose to solve the first one or the second one) so, before trying to implement more advanced algorithms, we try something less fancy. Namely, for each treatment paper, we take the best __local__ control paper (without considering the candidates for the other treatment papers) and we see how good is the matching."
   ]
  },
  {
   "cell_type": "code",
   "execution_count": 59,
   "metadata": {},
   "outputs": [],
   "source": [
    "def perform_matching(leaked, non_leaked):\n",
    "    \"\"\"\n",
    "    Performs the matching between the treatment and control group according to the provided propensity score.\n",
    "    \n",
    "    :param leaked: treatment group (2020 pre-printed papers)\n",
    "    :type leaked: pandas.DataFrame\n",
    "    :param non_leaked: control group (2020 not pre-printed papers)\n",
    "    :type non_leaked: pandas.DataFrame\n",
    "    \n",
    "    :return: the dictonary of treatment and control pairs\n",
    "    :rtype: dict\n",
    "    \"\"\"\n",
    "    \n",
    "    # Declaring the dictionary that will store the pairs and the threshold\n",
    "    matching = {}\n",
    "    threshold = 0.05\n",
    "\n",
    "    for index_leak, leak in leaked.iterrows():\n",
    "\n",
    "        # candidates for the treated paper (leak)\n",
    "        items = {}\n",
    "\n",
    "        for index_non_leak, non_leak in non_leaked.iterrows():\n",
    "\n",
    "            # Computing the inverse-similarity score (lower is better)\n",
    "            inv_similarity = np.abs(leak['propensity_score'] - non_leak['propensity_score'])\n",
    "\n",
    "            # If the constraint is respected and the control paper hasn't been already assigned to another treatment paper\n",
    "            if inv_similarity < threshold and not non_leak['paper'] in list(matching.values()):\n",
    "\n",
    "                # Adding the control paper to the possible candidates\n",
    "                items[non_leak['paper']] = np.abs(leak['propensity_score'] - non_leak['propensity_score'])\n",
    "\n",
    "        # Sorting the list of candidates by inverse-similarity (lower is better)\n",
    "        items = [k for k, v in sorted(items.items(), key=lambda item: item[1])]\n",
    "\n",
    "        # Assigning the best control paper to the treatment paper according to the inverse-similarity score\n",
    "        matching[leak['paper']] = items[0]\n",
    "        \n",
    "    return matching"
   ]
  },
  {
   "cell_type": "code",
   "execution_count": 60,
   "metadata": {},
   "outputs": [],
   "source": [
    "# Let's create our treatment and control groups\n",
    "leaked = df_with_prop[df_with_prop['arxiv'] == 1]\n",
    "non_leaked = df_with_prop[df_with_prop['arxiv'] == 0]\n",
    "\n",
    "# Performing the matching\n",
    "matching = perform_matching(leaked, non_leaked)"
   ]
  },
  {
   "cell_type": "markdown",
   "metadata": {},
   "source": [
    "#### *Subtask* 3.2.2"
   ]
  },
  {
   "cell_type": "markdown",
   "metadata": {},
   "source": [
    "Let's compare the number of treatment papers to which a control paper has been assigned to the total number of treatment papers."
   ]
  },
  {
   "cell_type": "code",
   "execution_count": 61,
   "metadata": {},
   "outputs": [
    {
     "name": "stdout",
     "output_type": "stream",
     "text": [
      "Total number of treatment papers: 590\n",
      "Total number of treatment papers to which a control paper has been assigned: 590\n"
     ]
    }
   ],
   "source": [
    "print(f\"Total number of treatment papers: {leaked.shape[0]}\\nTotal number of treatment papers to which a control paper has been assigned: {len(matching.keys())}\")"
   ]
  },
  {
   "cell_type": "markdown",
   "metadata": {},
   "source": [
    "Perfect, we managed to assign a control paper to every treated paper. We can then state that our particular situation is not affected by the first of the two problems we have explained before. Let's now compare the distributions of the variables `reputation` and `ratings` among the treatment and the control group!"
   ]
  },
  {
   "cell_type": "markdown",
   "metadata": {},
   "source": [
    "### Task 3.3"
   ]
  },
  {
   "cell_type": "markdown",
   "metadata": {},
   "source": [
    "#### *Subtask* 3.3.1\n",
    "\n",
    "Here we compare the distribution of the variables `reputation` and `ratings` among the treatment and the control group. As we can see the distributions, for both of the variables, are quite similar, so the matching has been successful. At this point, we don't think we should proceed in a more complex fashion for the second problem we explained in __subtask 3.2.1__, since the result is satisfactory. We create a function to plot the results, which will be usefull also for the next tasks. \n",
    "\n",
    "_Note that the colors used to plot the result come from a color-blind friendly palette._"
   ]
  },
  {
   "cell_type": "code",
   "execution_count": 62,
   "metadata": {},
   "outputs": [],
   "source": [
    "def plot_comparison_dist(leaked_data, leaked_label, non_leaked_data, non_leaked_label, title, ax):\n",
    "    \"\"\"\n",
    "    This function is used to plot, on the same axis (the same figure) the distribution of a variable in two dataset (treatment and control group).\n",
    "    :param leaked_data: the values of the attribute for the first dataset (treatment group)\n",
    "    :type leaked_data: pandas.Series\n",
    "    :param leaked_label: the label to show in the legend for the first distribution\n",
    "    :type leaked_label: str\n",
    "    :param non_leaked_data: the values of the attribute for the second dataset (control group)\n",
    "    :type non_leaked_data: pandas.Series\n",
    "    :param non_leaked_label: the label to show in the legend for the second distribution\n",
    "    :type non_leaked_label: str\n",
    "    title: the title of the plot\n",
    "    :ax: the axis of the figure used to plot the result\n",
    "    \"\"\"\n",
    "    \n",
    "    # Plotting the two distributions\n",
    "    sns.histplot(non_leaked_data, label=non_leaked_label, ax = ax, color = '#fc8d59', element = 'step', kde=True, stat= 'probability');\n",
    "    sns.histplot(leaked_data, label=leaked_label, ax = ax, color = '#91bfdb', element = 'step', kde=True, stat= 'probability');\n",
    "    ax.set(title=title, ylabel='Probability')\n",
    "    ax.legend()"
   ]
  },
  {
   "cell_type": "code",
   "execution_count": 63,
   "metadata": {},
   "outputs": [],
   "source": [
    "# Let's take from the control group of papers (the one that didn't get pre-printed) only the matched ones\n",
    "control = list(matching.values())\n",
    "non_leaked_matched = non_leaked[non_leaked['paper'].isin(control)]\n",
    "\n",
    "# Computing the \"true\" ratings (without standardization): remember that in a previous task we standardized the data!\n",
    "non_standardized_leaked_ratings = (leaked['ratings'] * ratings_std) + ratings_mean\n",
    "non_standardized_non_leaked_ratings_matched = (non_leaked_matched['ratings'] * ratings_std) + ratings_mean\n",
    "non_standardized_non_leaked_ratings = (non_leaked['ratings'] * ratings_std) + ratings_mean\n",
    "\n",
    "# Computing the \"true\" reputations (without standardization): remember that in a previous task we standardized the data!\n",
    "non_standardized_leaked_reputation = (leaked['reputation'] * ratings_std) + ratings_mean\n",
    "non_standardized_non_leaked_reputation_matched = (non_leaked_matched['reputation'] * ratings_std) + ratings_mean\n",
    "non_standardized_non_leaked_reputation = (non_leaked['reputation'] * ratings_std) + ratings_mean"
   ]
  },
  {
   "cell_type": "code",
   "execution_count": 64,
   "metadata": {},
   "outputs": [
    {
     "data": {
      "image/png": "[encoded data removed]",
      "text/plain": [
       "<Figure size 1728x576 with 2 Axes>"
      ]
     },
     "metadata": {
      "needs_background": "light"
     },
     "output_type": "display_data"
    }
   ],
   "source": [
    "fig, axs = plt.subplots(1, 2, figsize = (24, 8))\n",
    "\n",
    "# Plotting the comparison of \"ratings\" distributions between matched papers\n",
    "plot_comparison_dist(non_standardized_leaked_ratings, \n",
    "                     'Papers that got pre-printed (leak)', \n",
    "                     non_standardized_non_leaked_ratings_matched, \n",
    "                     'Papers that did not get pre-printed (non-leaked)', \n",
    "                     'Comparison of \"ratings\" distributions between leaked and non leaked MATCHED papers',\n",
    "                     axs[0])\n",
    "axs[0].legend(loc = 'upper left')\n",
    "\n",
    "# Plotting the comparison of \"reputation\" distributions between matched papers\n",
    "plot_comparison_dist(non_standardized_leaked_reputation, \n",
    "                     'Papers that got pre-printed (leak)', \n",
    "                     non_standardized_non_leaked_reputation_matched, \n",
    "                     'Papers that did not get pre-printed (non-leaked)', \n",
    "                     'Comparison of \"reputation\" distributions between leaked and non leaked MATCHED papers',\n",
    "                     axs[1])"
   ]
  },
  {
   "cell_type": "markdown",
   "metadata": {},
   "source": [
    "#### *Subtask* 3.3.2\n",
    "\n",
    "We can notice that, without the matching process we did, the control papers follow a different distribution (for the variables `reputation` and `ratings`) with respect to the treated ones. Actually we expected a more drastic change, with the help of the matching function, but it's undeniable that the distribution are more similar after the matching than before."
   ]
  },
  {
   "cell_type": "code",
   "execution_count": 65,
   "metadata": {},
   "outputs": [
    {
     "data": {
      "image/png": "[encoded data removed]",
      "text/plain": [
       "<Figure size 1728x432 with 2 Axes>"
      ]
     },
     "metadata": {
      "needs_background": "light"
     },
     "output_type": "display_data"
    }
   ],
   "source": [
    "fig, axs = plt.subplots(1, 2, figsize = (24, 6))\n",
    "\n",
    "\n",
    "# Plotting the comparison of distributions between all papers\n",
    "plot_comparison_dist(non_standardized_leaked_ratings, \n",
    "                     'Papers that got pre-printed (leak)', \n",
    "                     non_standardized_non_leaked_ratings, \n",
    "                     'Papers that did not get pre-printed (non-leaked)', \n",
    "                     'Comparison of distributions \"ratings\" between all leaked and non leaked papers',\n",
    "                     axs[0])\n",
    "\n",
    "# Plotting the comparison of distributions between all papers\n",
    "plot_comparison_dist(non_standardized_leaked_reputation, \n",
    "                     'Papers that got pre-printed (leak)', \n",
    "                     non_standardized_non_leaked_reputation, \n",
    "                     'Papers that did not get pre-printed (non-leaked)', \n",
    "                     'Comparison of \"reputation\" distributions between all leaked and non leaked papers',\n",
    "                     axs[1])"
   ]
  },
  {
   "cell_type": "markdown",
   "metadata": {},
   "source": [
    "#### *Subtask* 3.3.3\n",
    "\n",
    "As we alluded before, the matching process did a pretty good job at balancing covariates. We then assume that our previous analysis (__step 2__) to check wether the pre-printing breaks double-blind submissions is not significant, and we should repeat the same analysis on the matched dataset."
   ]
  },
  {
   "cell_type": "markdown",
   "metadata": {},
   "source": [
    "### Task 3.4\n",
    "\n",
    "At first, we compute the ATE (Average Treatment Effect) over the entire matched dataset. This score is one of the many methods to assess the effect of a treatment having a treated and a control group. The higher the score is, the more the impact of the treatment is significant."
   ]
  },
  {
   "cell_type": "code",
   "execution_count": 66,
   "metadata": {},
   "outputs": [
    {
     "name": "stdout",
     "output_type": "stream",
     "text": [
      "ATE score: 0.03559322033898305\n",
      "95% confidence interval: [0.020338983050847456, 0.05084745762711865]\n",
      "Number of samples: 590\n"
     ]
    }
   ],
   "source": [
    "# Computing the ATE and its 95% confidence interval\n",
    "ate = (leaked['decisions'].values -non_leaked_matched['decisions'].values)\n",
    "confidence_interval, ATE = compute_CI(ate, 95)\n",
    "\n",
    "# Printing the result\n",
    "print(f\"ATE score: {ATE}\\n95% confidence interval: {confidence_interval}\\nNumber of samples: {len(ate)}\")"
   ]
  },
  {
   "cell_type": "markdown",
   "metadata": {},
   "source": [
    "Mmmh... taking a look at this score, it doesn't seem that double-blind submissions have been broken: the average treatment effect, when the treatment consists in the paper being pre-printed, doesn't seem high!"
   ]
  },
  {
   "cell_type": "markdown",
   "metadata": {},
   "source": [
    "### Task 3.5"
   ]
  },
  {
   "cell_type": "markdown",
   "metadata": {},
   "source": [
    "We took into account every paper in the matching group, but actually the entire purpose of this analysis is to find out if the reviewers' judgment on a paper changes if they know that that paper comes from a known and accredited institution. It may happen that the reviewers are not biased __only__ if the paper doesn't come from a well known institution, in terms of their judgment, so let's build a matched dataset considering only the 2020 papers that come from one of those institutions."
   ]
  },
  {
   "cell_type": "markdown",
   "metadata": {},
   "source": [
    "#### *Subtask* 3.5.1"
   ]
  },
  {
   "cell_type": "code",
   "execution_count": 67,
   "metadata": {},
   "outputs": [],
   "source": [
    "# Let's create our treatment and control groups\n",
    "leaked_only_institution = df_with_prop[(df_with_prop['arxiv'] == 1) & (df_with_prop['has_top_institution'] == 1)]\n",
    "non_leaked_only_institution = df_with_prop[(df_with_prop['arxiv'] == 0) & (df_with_prop['has_top_institution'] == 1)]\n",
    "\n",
    "# Performing the matching\n",
    "matching_only_institution = perform_matching(leaked_only_institution, non_leaked_only_institution)\n",
    "\n",
    "# Let's take from the control group of papers (the one that didn't get pre-printed) only the matched ones\n",
    "control_only_institution = list(matching_only_institution.values())\n",
    "non_leaked_matched_only_institution = non_leaked_only_institution[non_leaked_only_institution['paper'].isin(control_only_institution)]\n",
    "\n",
    "# Computing the \"true\" ratings (without standardization)\n",
    "non_standardized_leaked_ratings = (leaked_only_institution['ratings'] * ratings_std) + ratings_mean\n",
    "non_standardized_non_leaked_ratings_matched = (non_leaked_matched_only_institution['ratings'] * ratings_std) + ratings_mean\n",
    "non_standardized_non_leaked_ratings = (non_leaked_only_institution['ratings'] * ratings_std) + ratings_mean\n",
    "\n",
    "# Computing the \"true\" reputations (without standardization)\n",
    "non_standardized_leaked_reputation = (leaked_only_institution['reputation'] * ratings_std) + ratings_mean\n",
    "non_standardized_non_leaked_reputation_matched = (non_leaked_matched_only_institution['reputation'] * ratings_std) + ratings_mean\n",
    "non_standardized_non_leaked_reputation = (non_leaked_only_institution['reputation'] * ratings_std) + ratings_mean"
   ]
  },
  {
   "cell_type": "markdown",
   "metadata": {},
   "source": [
    "Let's see if, even in this case, we matched all treated papers with a control one, and let's plot the distribution for the variables \"ratings\" and \"reputation\" even in this case."
   ]
  },
  {
   "cell_type": "code",
   "execution_count": 68,
   "metadata": {},
   "outputs": [
    {
     "name": "stdout",
     "output_type": "stream",
     "text": [
      "Number of 2020 papers from a top institution that got pre-printed: 161\n",
      "Number of 2020 papers from a top institution that got pre-printed and matched: 161\n"
     ]
    }
   ],
   "source": [
    "print(f\"Number of 2020 papers from a top institution that got pre-printed: {leaked_only_institution.shape[0]}\\nNumber of 2020 papers from a top institution that got pre-printed and matched: {len(matching_only_institution.keys())}\")"
   ]
  },
  {
   "cell_type": "code",
   "execution_count": 69,
   "metadata": {},
   "outputs": [
    {
     "data": {
      "image/png": "[encoded data removed]",
      "text/plain": [
       "<Figure size 1728x576 with 2 Axes>"
      ]
     },
     "metadata": {
      "needs_background": "light"
     },
     "output_type": "display_data"
    }
   ],
   "source": [
    "fig, axs = plt.subplots(1, 2, figsize = (24, 8))\n",
    "\n",
    "# Plotting the comparison of \"ratings\" distributions between matched papers\n",
    "plot_comparison_dist(non_standardized_leaked_ratings, \n",
    "                     'Papers that got pre-printed (leak)', \n",
    "                     non_standardized_non_leaked_ratings_matched, \n",
    "                     'Papers that did not get pre-printed (non-leaked)', \n",
    "                     'Comparison of \"ratings\" distributions between leaked and non leaked MATCHED papers',\n",
    "                     axs[0])\n",
    "axs[0].legend(loc = 'upper left')\n",
    "# Plotting the comparison of \"reputation\" distributions between matched papers\n",
    "plot_comparison_dist(non_standardized_leaked_reputation, \n",
    "                     'Papers that got pre-printed (leak)', \n",
    "                     non_standardized_non_leaked_reputation_matched, \n",
    "                     'Papers that did not get pre-printed (non-leaked)', \n",
    "                     'Comparison of \"reputation\" distributions between leaked and non leaked MATCHED papers',\n",
    "                     axs[1])"
   ]
  },
  {
   "cell_type": "markdown",
   "metadata": {},
   "source": [
    "Even in this case, we can notice that the two distributions are quite similar. Of course, given the smaller number of samples, the matching is slightly worse than the previous one, but the distributions are still more similar than the ones computed over the entire dataset (considering only the top-institution papers), without the matching."
   ]
  },
  {
   "cell_type": "code",
   "execution_count": 70,
   "metadata": {},
   "outputs": [
    {
     "data": {
      "image/png": "[encoded data removed]",
      "text/plain": [
       "<Figure size 1728x432 with 2 Axes>"
      ]
     },
     "metadata": {
      "needs_background": "light"
     },
     "output_type": "display_data"
    }
   ],
   "source": [
    "fig, axs = plt.subplots(1, 2, figsize = (24, 6))\n",
    "\n",
    "\n",
    "# Plotting the comparison of distributions between all papers\n",
    "plot_comparison_dist(non_standardized_leaked_ratings, \n",
    "                     'Papers that got pre-printed (leak)', \n",
    "                     non_standardized_non_leaked_ratings, \n",
    "                     'Papers that did not get pre-printed (non-leaked)', \n",
    "                     'Comparison of distributions \"ratings\" between all leaked and non leaked papers',\n",
    "                     axs[0])\n",
    "\n",
    "# Plotting the comparison of distributions between all papers\n",
    "plot_comparison_dist(non_standardized_leaked_reputation, \n",
    "                     'Papers that got pre-printed (leak)', \n",
    "                     non_standardized_non_leaked_reputation, \n",
    "                     'Papers that did not get pre-printed (non-leaked)', \n",
    "                     'Comparison of \"reputation\" distributions between all leaked and non leaked papers',\n",
    "                     axs[1])"
   ]
  },
  {
   "cell_type": "code",
   "execution_count": 71,
   "metadata": {},
   "outputs": [
    {
     "name": "stdout",
     "output_type": "stream",
     "text": [
      "ATE score: 0.09937888198757763\n",
      "95% confidence interval: [0.055900621118012424, 0.14906832298136646]\n",
      "Number of samples: 161\n"
     ]
    }
   ],
   "source": [
    "# Computing the Average Treatment Effect on the new matched dataset, and its 95% confidence interval\n",
    "ate = (leaked_only_institution['decisions'].values -non_leaked_matched_only_institution['decisions'].values)\n",
    "confidence_interval, ATE = compute_CI(ate, 95)\n",
    "\n",
    "# Printing the result\n",
    "print(f\"ATE score: {ATE}\\n95% confidence interval: {confidence_interval}\\nNumber of samples: {len(ate)}\")"
   ]
  },
  {
   "cell_type": "markdown",
   "metadata": {},
   "source": [
    "#### *Subtask* 3.5.2"
   ]
  },
  {
   "cell_type": "markdown",
   "metadata": {},
   "source": [
    "Let's analyze the result we got:\n",
    "\n",
    "- The ATE score is positive: this means that top-institutions treated papers, in general, have been accepted more than not treated papers coming from the same institutions.\n",
    "- The ATE score, when considering just the papers coming from the top institutions, is higher than the same score computed over the entire collection of papers (after matching, of course). This means that, if the paper comes from a top institutions, it has more chances to be accepted if it is pre-printed. But is this result significant?"
   ]
  },
  {
   "cell_type": "markdown",
   "metadata": {},
   "source": [
    "It would be interesting to see what the ATE score without taking into account the top institutions. \n",
    "If this score is lower than the one computed across all papers, maybe we could take the increase of the ATE score for top institutions as evidence of pre-printing breaking double blind submissions."
   ]
  },
  {
   "cell_type": "code",
   "execution_count": 72,
   "metadata": {},
   "outputs": [],
   "source": [
    "# Creating the treatment and the control group (2020 papers don't come from a top institution)\n",
    "leaked_only_no_institution = df_with_prop[(df_with_prop['arxiv'] == 1) & (df_with_prop['has_top_institution'] == 0)]\n",
    "non_leaked_only_no_institution = df_with_prop[(df_with_prop['arxiv'] == 0) & (df_with_prop['has_top_institution'] == 0)]\n",
    "\n",
    "# Performing the matching once again\n",
    "no_institution_matching = perform_matching(leaked_only_no_institution,non_leaked_only_no_institution)\n",
    "\n",
    "# Let's take from the control group of papers (the one that didn't get pre-printed) only the matched ones\n",
    "control_only_no_institution = list(no_institution_matching.values())\n",
    "control_matched_df = non_leaked_only_no_institution[non_leaked_only_no_institution['paper'].isin(control_only_no_institution)]"
   ]
  },
  {
   "cell_type": "code",
   "execution_count": 73,
   "metadata": {},
   "outputs": [
    {
     "name": "stdout",
     "output_type": "stream",
     "text": [
      "Number of 2020 papers from a non top-institution that got pre-printed: 429\n",
      "Number of 2020 papers from a non top-institution that got pre-printed and matched: 429\n"
     ]
    }
   ],
   "source": [
    "print(f\"Number of 2020 papers from a non top-institution that got pre-printed: {leaked_only_no_institution.shape[0]}\\nNumber of 2020 papers from a non top-institution that got pre-printed and matched: {len(no_institution_matching.keys())}\")"
   ]
  },
  {
   "cell_type": "code",
   "execution_count": 74,
   "metadata": {},
   "outputs": [
    {
     "name": "stdout",
     "output_type": "stream",
     "text": [
      "ATE score: 0.013986013986013986\n",
      "95% confidence interval: [0.004662004662004662, 0.02564102564102564]\n",
      "Number of samples: 429\n"
     ]
    }
   ],
   "source": [
    "# Computing and printing the ATE score for the papers coming from a non top-institution and its confidence interval\n",
    "ate = (leaked_only_no_institution['decisions'].values -control_matched_df['decisions'].values)\n",
    "confidence_interval, ATE = compute_CI(ate, 95)\n",
    "print(f\"ATE score: {ATE}\\n95% confidence interval: {confidence_interval}\\nNumber of samples: {len(ate)}\")"
   ]
  },
  {
   "cell_type": "markdown",
   "metadata": {},
   "source": [
    "The ATE score for non top institutions is indeed lower than the general ATE score! Let us summarize our results: \n",
    "- ATE score (all institutions considered) :  \n",
    "    - Mean :`0.036` \n",
    "    - Confidence Interval: `[0.020, 0.051]`\n",
    "    - Number of matched samples: `590`\n",
    "- ATE score (top institutions considered) :  \n",
    "    - Mean :`0.099` \n",
    "    - Confidence Interval: `[0.056, 0.149]`\n",
    "    - Number of matched samples: `161`\n",
    "- ATE score (non-top institutions considered) :  \n",
    "    - Mean :`0.014` \n",
    "    - Confidence Interval: `[0.005, 0.026]`\n",
    "    - Number of matched samples: `429`\n",
    "\n"
   ]
  },
  {
   "cell_type": "markdown",
   "metadata": {},
   "source": [
    "We do observe a significant increase of the average treatment effect in the population of top-institution papers. Unfortunately, we should also consider the following: \n",
    "- The ATE score, with respect only to the papers coming from the top institutions, was computed across a sample of matched papers of considerably reduced size. This results in a huge increase in the width of the confidence interval\n",
    "  making us less confident about the obtained result.\n",
    "- Ideally, the ATE score assesses the treatment effect on identical samples. However, a paper cannot be pre-printed and not pre-printed at the same time. Hence, the efficency of the ATE metric is highly dependent on the quality of the propensity score matching done previously.  At first glance, the matching seems to be pretty spot on, but since it isn't perfect, it could lead to a loss of accuracy for small values of the ATE. \n",
    "  \n",
    "For these reasons, we cannot say that the ATE is evidence enough for the breaking of double blind submissions. We are not saying that double blind submissions are not broken, but this ATE score can just be considered as a hint in this sense, not as a complete evidence. Maybe, with a more significant number of papers to analyze, we could be more confident about our result.\n"
   ]
  }
 ],
 "metadata": {
  "kernelspec": {
   "display_name": "Python 3",
   "language": "python",
   "name": "python3"
  },
  "language_info": {
   "codemirror_mode": {
    "name": "ipython",
    "version": 3
   },
   "file_extension": ".py",
   "mimetype": "text/x-python",
   "name": "python",
   "nbconvert_exporter": "python",
   "pygments_lexer": "ipython3",
   "version": "3.8.5"
  }
 },
 "nbformat": 4,
 "nbformat_minor": 4
}
